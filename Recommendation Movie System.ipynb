{
 "cells": [
  {
   "cell_type": "code",
   "execution_count": 1,
   "metadata": {},
   "outputs": [
    {
     "name": "stderr",
     "output_type": "stream",
     "text": [
      "C:\\Users\\Nikola\\Anaconda3\\lib\\site-packages\\lightfm\\_lightfm_fast.py:9: UserWarning: LightFM was compiled without OpenMP support. Only a single thread will be used.\n",
      "  warnings.warn('LightFM was compiled without OpenMP support. '\n"
     ]
    }
   ],
   "source": [
    "import numpy as np\n",
    "from lightfm.datasets import fetch_movielens\n",
    "from lightfm import LightFM"
   ]
  },
  {
   "cell_type": "code",
   "execution_count": 2,
   "metadata": {},
   "outputs": [],
   "source": [
    "data = fetch_movielens(min_rating=4.0) # only collecting movies with rating 4 or higher."
   ]
  },
  {
   "cell_type": "code",
   "execution_count": 3,
   "metadata": {},
   "outputs": [
    {
     "name": "stdout",
     "output_type": "stream",
     "text": [
      "<943x1682 sparse matrix of type '<class 'numpy.int32'>'\n",
      "\twith 49906 stored elements in COOrdinate format>\n",
      "<943x1682 sparse matrix of type '<class 'numpy.int32'>'\n",
      "\twith 5469 stored elements in COOrdinate format>\n"
     ]
    }
   ],
   "source": [
    "print(repr(data[\"train\"])) #The repr() method returns a printable representational string of the given object.\n",
    "print(repr(data[\"test\"]))"
   ]
  },
  {
   "cell_type": "markdown",
   "metadata": {},
   "source": [
    "Everything looks fine, train data is aproximately 10x bigger than test data."
   ]
  },
  {
   "cell_type": "code",
   "execution_count": 4,
   "metadata": {},
   "outputs": [],
   "source": [
    "model = LightFM(loss=\"warp\")  \n",
    "# WARP = Weighted Approximate-Rank Pairwise - uses gradient descent iteratively, combining collaborative and content based recommender system"
   ]
  },
  {
   "cell_type": "markdown",
   "metadata": {},
   "source": [
    "Now when I crated a model it's time to train it."
   ]
  },
  {
   "cell_type": "code",
   "execution_count": 5,
   "metadata": {},
   "outputs": [],
   "source": [
    "model.fit(data[\"train\"], epochs=35, num_threads=2) #epochs = runs, threads = paralel computations\n",
    "def sample_recommendation(model, data, user_ids):\n",
    "    n_users, n_items = data[\"train\"].shape \n",
    "    for user_id in user_ids: \n",
    "        known_positives = data[\"item_labels\"][data[\"train\"].tocsr()[user_id].indices]\n",
    "        #tocsr() - Return a copy in Compressed Sparse Row format\n",
    "        #Compute an array where the subarrays contain index values 0, 1, … varying only along the corresponding axis\n",
    "        \n",
    "        scores = model.predict(user_id, np.arange(n_items))\n",
    "        #ran the scores\n",
    "        top_items = data[\"item_labels\"][np.argsort(-scores)]\n",
    "        \n",
    "        print (\"\\n User %s\" %user_id)\n",
    "        print (\"\\n Knowns positives:\")\n",
    "        \n",
    "        #don't want to print everything, let's print just first 7\n",
    "        for x in known_positives[:7]:\n",
    "            print(\" %s \" %x)\n",
    "            \n",
    "        print(\"\\n Recommended:\")\n",
    "        \n",
    "        for x in top_items[:7]:\n",
    "            print(\" %s \" %x)\n",
    "            \n"
   ]
  },
  {
   "cell_type": "markdown",
   "metadata": {},
   "source": [
    "Let's print model result for 4 users:"
   ]
  },
  {
   "cell_type": "code",
   "execution_count": 6,
   "metadata": {},
   "outputs": [
    {
     "name": "stdout",
     "output_type": "stream",
     "text": [
      "\n",
      " User 1\n",
      "\n",
      " Knowns positives:\n",
      " Toy Story (1995) \n",
      " Postino, Il (1994) \n",
      " Birdcage, The (1996) \n",
      " Fargo (1996) \n",
      " Truth About Cats & Dogs, The (1996) \n",
      " Godfather, The (1972) \n",
      " Jerry Maguire (1996) \n",
      "\n",
      " Recommended:\n",
      " English Patient, The (1996) \n",
      " Contact (1997) \n",
      " Fargo (1996) \n",
      " L.A. Confidential (1997) \n",
      " Full Monty, The (1997) \n",
      " Titanic (1997) \n",
      " Air Force One (1997) \n",
      "\n",
      " User 5\n",
      "\n",
      " Knowns positives:\n",
      " Toy Story (1995) \n",
      " Babe (1995) \n",
      " Dead Man Walking (1995) \n",
      " Usual Suspects, The (1995) \n",
      " Antonia's Line (1995) \n",
      " Crumb (1994) \n",
      " Star Wars (1977) \n",
      "\n",
      " Recommended:\n",
      " Vertigo (1958) \n",
      " Casablanca (1942) \n",
      " Fargo (1996) \n",
      " Citizen Kane (1941) \n",
      " Rear Window (1954) \n",
      " Annie Hall (1977) \n",
      " North by Northwest (1959) \n",
      "\n",
      " User 590\n",
      "\n",
      " Knowns positives:\n",
      " Get Shorty (1995) \n",
      " Mighty Aphrodite (1995) \n",
      " Birdcage, The (1996) \n",
      " Eat Drink Man Woman (1994) \n",
      " Hoop Dreams (1994) \n",
      " Shawshank Redemption, The (1994) \n",
      " Four Weddings and a Funeral (1994) \n",
      "\n",
      " Recommended:\n",
      " Sense and Sensibility (1995) \n",
      " Fargo (1996) \n",
      " Postino, Il (1994) \n",
      " Cinema Paradiso (1988) \n",
      " English Patient, The (1996) \n",
      " Remains of the Day, The (1993) \n",
      " Room with a View, A (1986) \n",
      "\n",
      " User 32\n",
      "\n",
      " Knowns positives:\n",
      " Event Horizon (1997) \n",
      " Starship Troopers (1997) \n",
      " Scream (1996) \n",
      " Air Force One (1997) \n",
      " Dante's Peak (1997) \n",
      " Desperate Measures (1998) \n",
      " Desperate Measures (1998) \n",
      "\n",
      " Recommended:\n",
      " Volcano (1997) \n",
      " Scream (1996) \n",
      " Air Force One (1997) \n",
      " Dante's Peak (1997) \n",
      " I Know What You Did Last Summer (1997) \n",
      " Conspiracy Theory (1997) \n",
      " Scream 2 (1997) \n"
     ]
    }
   ],
   "source": [
    "sample_recommendation (model, data, [1, 5, 590, 32])"
   ]
  },
  {
   "cell_type": "code",
   "execution_count": null,
   "metadata": {},
   "outputs": [],
   "source": []
  }
 ],
 "metadata": {
  "kernelspec": {
   "display_name": "Python 3",
   "language": "python",
   "name": "python3"
  },
  "language_info": {
   "codemirror_mode": {
    "name": "ipython",
    "version": 3
   },
   "file_extension": ".py",
   "mimetype": "text/x-python",
   "name": "python",
   "nbconvert_exporter": "python",
   "pygments_lexer": "ipython3",
   "version": "3.7.3"
  }
 },
 "nbformat": 4,
 "nbformat_minor": 2
}
