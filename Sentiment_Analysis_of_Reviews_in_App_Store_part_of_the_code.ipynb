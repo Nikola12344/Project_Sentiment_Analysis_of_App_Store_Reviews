{
 "cells": [
  {
   "cell_type": "code",
   "execution_count": 1,
   "metadata": {},
   "outputs": [],
   "source": [
    "import os\n",
    "import nltk\n",
    "import nltk.corpus "
   ]
  },
  {
   "cell_type": "code",
   "execution_count": 2,
   "metadata": {},
   "outputs": [],
   "source": [
    "from nltk.corpus import stopwords"
   ]
  },
  {
   "cell_type": "code",
   "execution_count": 3,
   "metadata": {},
   "outputs": [],
   "source": [
    "import pandas as pd\n",
    "import numpy as np\n",
    "import matplotlib.pyplot as plt"
   ]
  },
  {
   "cell_type": "code",
   "execution_count": 4,
   "metadata": {
    "scrolled": false
   },
   "outputs": [
    {
     "data": {
      "text/plain": [
       "['i', 'me', 'my', 'myself', 'we', 'our', 'ours', 'ourselves', 'you', \"you're\"]"
      ]
     },
     "execution_count": 4,
     "metadata": {},
     "output_type": "execute_result"
    }
   ],
   "source": [
    "stopwords.words('english')[:10]"
   ]
  },
  {
   "cell_type": "code",
   "execution_count": 5,
   "metadata": {
    "scrolled": true
   },
   "outputs": [
    {
     "data": {
      "text/plain": [
       "179"
      ]
     },
     "execution_count": 5,
     "metadata": {},
     "output_type": "execute_result"
    }
   ],
   "source": [
    "len(stopwords.words('english'))"
   ]
  },
  {
   "cell_type": "markdown",
   "metadata": {},
   "source": [
    "## Load the data from 15th June 2016 - 15th June 2020"
   ]
  },
  {
   "cell_type": "code",
   "execution_count": 6,
   "metadata": {},
   "outputs": [],
   "source": [
    "df = pd.read_excel(\"15_06_2016-15_06_2020__Genius_Unicode.xlsx\", parse_dates=['date'])"
   ]
  },
  {
   "cell_type": "code",
   "execution_count": 7,
   "metadata": {
    "scrolled": true
   },
   "outputs": [
    {
     "data": {
      "text/html": [
       "<div>\n",
       "<style scoped>\n",
       "    .dataframe tbody tr th:only-of-type {\n",
       "        vertical-align: middle;\n",
       "    }\n",
       "\n",
       "    .dataframe tbody tr th {\n",
       "        vertical-align: top;\n",
       "    }\n",
       "\n",
       "    .dataframe thead th {\n",
       "        text-align: right;\n",
       "    }\n",
       "</style>\n",
       "<table border=\"1\" class=\"dataframe\">\n",
       "  <thead>\n",
       "    <tr style=\"text-align: right;\">\n",
       "      <th></th>\n",
       "      <th>rbr</th>\n",
       "      <th>name</th>\n",
       "      <th>date</th>\n",
       "      <th>stars</th>\n",
       "      <th>review</th>\n",
       "      <th>lang</th>\n",
       "      <th>thumb</th>\n",
       "      <th>reply</th>\n",
       "    </tr>\n",
       "  </thead>\n",
       "  <tbody>\n",
       "    <tr>\n",
       "      <th>0</th>\n",
       "      <td>2</td>\n",
       "      <td>Rc Prod</td>\n",
       "      <td>2020-06-11</td>\n",
       "      <td>4</td>\n",
       "      <td>This app was hit or miss until I found I had ...</td>\n",
       "      <td>en</td>\n",
       "      <td>3</td>\n",
       "      <td>NaN</td>\n",
       "    </tr>\n",
       "    <tr>\n",
       "      <th>1</th>\n",
       "      <td>3</td>\n",
       "      <td>Steve Harding</td>\n",
       "      <td>2020-06-11</td>\n",
       "      <td>4</td>\n",
       "      <td>Would like to see a round route option, but b...</td>\n",
       "      <td>en</td>\n",
       "      <td>0</td>\n",
       "      <td>NaN</td>\n",
       "    </tr>\n",
       "    <tr>\n",
       "      <th>2</th>\n",
       "      <td>4</td>\n",
       "      <td>Carl Savillo Jr</td>\n",
       "      <td>2020-05-08</td>\n",
       "      <td>1</td>\n",
       "      <td>To use it, you need another $45 app so your v...</td>\n",
       "      <td>en</td>\n",
       "      <td>9</td>\n",
       "      <td>Dear Carl,\\r\\n\\r\\nthank you for leaving a revi...</td>\n",
       "    </tr>\n",
       "    <tr>\n",
       "      <th>3</th>\n",
       "      <td>6</td>\n",
       "      <td>Rc Prod</td>\n",
       "      <td>2020-06-11</td>\n",
       "      <td>4</td>\n",
       "      <td>This app was hit or miss until I found I had ...</td>\n",
       "      <td>en</td>\n",
       "      <td>3</td>\n",
       "      <td>NaN</td>\n",
       "    </tr>\n",
       "    <tr>\n",
       "      <th>4</th>\n",
       "      <td>7</td>\n",
       "      <td>Steve Harding</td>\n",
       "      <td>2020-06-11</td>\n",
       "      <td>4</td>\n",
       "      <td>Would like to see a round route option, but b...</td>\n",
       "      <td>en</td>\n",
       "      <td>0</td>\n",
       "      <td>NaN</td>\n",
       "    </tr>\n",
       "  </tbody>\n",
       "</table>\n",
       "</div>"
      ],
      "text/plain": [
       "   rbr             name       date  stars  \\\n",
       "0    2          Rc Prod 2020-06-11      4   \n",
       "1    3    Steve Harding 2020-06-11      4   \n",
       "2    4  Carl Savillo Jr 2020-05-08      1   \n",
       "3    6          Rc Prod 2020-06-11      4   \n",
       "4    7    Steve Harding 2020-06-11      4   \n",
       "\n",
       "                                              review lang  thumb  \\\n",
       "0   This app was hit or miss until I found I had ...   en      3   \n",
       "1   Would like to see a round route option, but b...   en      0   \n",
       "2   To use it, you need another $45 app so your v...   en      9   \n",
       "3   This app was hit or miss until I found I had ...   en      3   \n",
       "4   Would like to see a round route option, but b...   en      0   \n",
       "\n",
       "                                               reply  \n",
       "0                                                NaN  \n",
       "1                                                NaN  \n",
       "2  Dear Carl,\\r\\n\\r\\nthank you for leaving a revi...  \n",
       "3                                                NaN  \n",
       "4                                                NaN  "
      ]
     },
     "execution_count": 7,
     "metadata": {},
     "output_type": "execute_result"
    }
   ],
   "source": [
    "df.head()"
   ]
  },
  {
   "cell_type": "code",
   "execution_count": 8,
   "metadata": {},
   "outputs": [
    {
     "name": "stdout",
     "output_type": "stream",
     "text": [
      "<class 'pandas.core.frame.DataFrame'>\n",
      "RangeIndex: 277 entries, 0 to 276\n",
      "Data columns (total 8 columns):\n",
      " #   Column  Non-Null Count  Dtype         \n",
      "---  ------  --------------  -----         \n",
      " 0   rbr     277 non-null    int64         \n",
      " 1   name    277 non-null    object        \n",
      " 2   date    277 non-null    datetime64[ns]\n",
      " 3   stars   277 non-null    int64         \n",
      " 4   review  277 non-null    object        \n",
      " 5   lang    229 non-null    object        \n",
      " 6   thumb   277 non-null    int64         \n",
      " 7   reply   76 non-null     object        \n",
      "dtypes: datetime64[ns](1), int64(3), object(4)\n",
      "memory usage: 17.4+ KB\n"
     ]
    }
   ],
   "source": [
    "df.info()"
   ]
  },
  {
   "cell_type": "code",
   "execution_count": 9,
   "metadata": {},
   "outputs": [],
   "source": [
    "df['stars'] = df['stars'].astype('int8')"
   ]
  },
  {
   "cell_type": "code",
   "execution_count": 10,
   "metadata": {},
   "outputs": [
    {
     "data": {
      "text/html": [
       "<div>\n",
       "<style scoped>\n",
       "    .dataframe tbody tr th:only-of-type {\n",
       "        vertical-align: middle;\n",
       "    }\n",
       "\n",
       "    .dataframe tbody tr th {\n",
       "        vertical-align: top;\n",
       "    }\n",
       "\n",
       "    .dataframe thead th {\n",
       "        text-align: right;\n",
       "    }\n",
       "</style>\n",
       "<table border=\"1\" class=\"dataframe\">\n",
       "  <thead>\n",
       "    <tr style=\"text-align: right;\">\n",
       "      <th></th>\n",
       "      <th>rbr</th>\n",
       "      <th>name</th>\n",
       "      <th>date</th>\n",
       "      <th>stars</th>\n",
       "      <th>review</th>\n",
       "      <th>lang</th>\n",
       "      <th>thumb</th>\n",
       "      <th>reply</th>\n",
       "    </tr>\n",
       "  </thead>\n",
       "  <tbody>\n",
       "    <tr>\n",
       "      <th>272</th>\n",
       "      <td>557</td>\n",
       "      <td>A Google user</td>\n",
       "      <td>2018-01-09</td>\n",
       "      <td>5</td>\n",
       "      <td>I Love It</td>\n",
       "      <td>NaN</td>\n",
       "      <td>0</td>\n",
       "      <td>NaN</td>\n",
       "    </tr>\n",
       "    <tr>\n",
       "      <th>273</th>\n",
       "      <td>561</td>\n",
       "      <td>Mohd Sahabat Nor Kekasih lV</td>\n",
       "      <td>2019-05-05</td>\n",
       "      <td>5</td>\n",
       "      <td>g8od</td>\n",
       "      <td>NaN</td>\n",
       "      <td>0</td>\n",
       "      <td>Dear Sir/Madam,\\r\\n\\r\\nthank you for the excel...</td>\n",
       "    </tr>\n",
       "    <tr>\n",
       "      <th>274</th>\n",
       "      <td>567</td>\n",
       "      <td>Charles Hunt</td>\n",
       "      <td>2018-02-28</td>\n",
       "      <td>5</td>\n",
       "      <td>Great app</td>\n",
       "      <td>NaN</td>\n",
       "      <td>0</td>\n",
       "      <td>NaN</td>\n",
       "    </tr>\n",
       "    <tr>\n",
       "      <th>275</th>\n",
       "      <td>574</td>\n",
       "      <td>Darrell Owens</td>\n",
       "      <td>2017-06-01</td>\n",
       "      <td>5</td>\n",
       "      <td>Excellent app</td>\n",
       "      <td>NaN</td>\n",
       "      <td>0</td>\n",
       "      <td>NaN</td>\n",
       "    </tr>\n",
       "    <tr>\n",
       "      <th>276</th>\n",
       "      <td>577</td>\n",
       "      <td>Hossam Awaad</td>\n",
       "      <td>2017-03-01</td>\n",
       "      <td>5</td>\n",
       "      <td>Very good</td>\n",
       "      <td>NaN</td>\n",
       "      <td>0</td>\n",
       "      <td>NaN</td>\n",
       "    </tr>\n",
       "  </tbody>\n",
       "</table>\n",
       "</div>"
      ],
      "text/plain": [
       "     rbr                         name       date  stars          review lang  \\\n",
       "272  557                A Google user 2018-01-09      5       I Love It  NaN   \n",
       "273  561  Mohd Sahabat Nor Kekasih lV 2019-05-05      5            g8od  NaN   \n",
       "274  567                 Charles Hunt 2018-02-28      5       Great app  NaN   \n",
       "275  574                Darrell Owens 2017-06-01      5   Excellent app  NaN   \n",
       "276  577                 Hossam Awaad 2017-03-01      5       Very good  NaN   \n",
       "\n",
       "     thumb                                              reply  \n",
       "272      0                                                NaN  \n",
       "273      0  Dear Sir/Madam,\\r\\n\\r\\nthank you for the excel...  \n",
       "274      0                                                NaN  \n",
       "275      0                                                NaN  \n",
       "276      0                                                NaN  "
      ]
     },
     "execution_count": 10,
     "metadata": {},
     "output_type": "execute_result"
    }
   ],
   "source": [
    "df.tail()"
   ]
  },
  {
   "cell_type": "code",
   "execution_count": 11,
   "metadata": {},
   "outputs": [
    {
     "data": {
      "text/plain": [
       "pandas._libs.tslibs.timestamps.Timestamp"
      ]
     },
     "execution_count": 11,
     "metadata": {},
     "output_type": "execute_result"
    }
   ],
   "source": [
    "type(df.loc[0, 'date'])"
   ]
  },
  {
   "cell_type": "code",
   "execution_count": 12,
   "metadata": {},
   "outputs": [
    {
     "name": "stdout",
     "output_type": "stream",
     "text": [
      "<class 'pandas.core.frame.DataFrame'>\n",
      "RangeIndex: 277 entries, 0 to 276\n",
      "Data columns (total 8 columns):\n",
      " #   Column  Non-Null Count  Dtype         \n",
      "---  ------  --------------  -----         \n",
      " 0   rbr     277 non-null    int64         \n",
      " 1   name    277 non-null    object        \n",
      " 2   date    277 non-null    datetime64[ns]\n",
      " 3   stars   277 non-null    int8          \n",
      " 4   review  277 non-null    object        \n",
      " 5   lang    229 non-null    object        \n",
      " 6   thumb   277 non-null    int64         \n",
      " 7   reply   76 non-null     object        \n",
      "dtypes: datetime64[ns](1), int64(2), int8(1), object(4)\n",
      "memory usage: 15.5+ KB\n"
     ]
    }
   ],
   "source": [
    "df.info()"
   ]
  },
  {
   "cell_type": "code",
   "execution_count": 13,
   "metadata": {},
   "outputs": [
    {
     "data": {
      "text/plain": [
       "5    125\n",
       "1     64\n",
       "4     47\n",
       "2     22\n",
       "3     19\n",
       "Name: stars, dtype: int64"
      ]
     },
     "execution_count": 13,
     "metadata": {},
     "output_type": "execute_result"
    }
   ],
   "source": [
    "df.stars.value_counts()"
   ]
  },
  {
   "cell_type": "code",
   "execution_count": 14,
   "metadata": {
    "scrolled": true
   },
   "outputs": [
    {
     "data": {
      "image/png": "[encoded data removed]",
      "text/plain": [
       "<Figure size 432x288 with 1 Axes>"
      ]
     },
     "metadata": {
      "needs_background": "light"
     },
     "output_type": "display_data"
    }
   ],
   "source": [
    "stars_count=df.groupby('stars').count()\n",
    "plt.bar(stars_count.index.values, stars_count['rbr'])\n",
    "plt.xlabel('Stars')\n",
    "plt.ylabel('Number of Reviews')\n",
    "plt.show()"
   ]
  },
  {
   "cell_type": "markdown",
   "metadata": {},
   "source": [
    "## Performing Sentiment Analysis using Text Classification\n"
   ]
  },
  {
   "cell_type": "code",
   "execution_count": 15,
   "metadata": {},
   "outputs": [],
   "source": [
    "from sklearn.feature_extraction.text import CountVectorizer\n",
    "from nltk.tokenize import RegexpTokenizer\n",
    "#tokenizer to remove unwanted elements from out data like symbols and numbers\n",
    "token = RegexpTokenizer(r'[a-zA-Z0-9]+')\n",
    "cv = CountVectorizer(lowercase=True,stop_words='english',ngram_range = (1,1),tokenizer = token.tokenize)\n",
    "text_counts= cv.fit_transform(df['review'])"
   ]
  },
  {
   "cell_type": "code",
   "execution_count": 16,
   "metadata": {},
   "outputs": [],
   "source": [
    "from sklearn.model_selection import train_test_split\n",
    "X_train, X_test, y_train, y_test = train_test_split(\n",
    "    text_counts, df['stars'], test_size=0.3, random_state=1) #actually, random_state isn't necessary"
   ]
  },
  {
   "cell_type": "code",
   "execution_count": 17,
   "metadata": {},
   "outputs": [
    {
     "name": "stdout",
     "output_type": "stream",
     "text": [
      "MultinomialNB Accuracy: 0.5\n"
     ]
    }
   ],
   "source": [
    "from sklearn.naive_bayes import MultinomialNB\n",
    "#Import scikit-learn metrics module for accuracy calculation\n",
    "from sklearn import metrics\n",
    "# Model Generation Using Multinomial Naive Bayes\n",
    "clf = MultinomialNB().fit(X_train, y_train)\n",
    "predicted= clf.predict(X_test)\n",
    "print(\"MultinomialNB Accuracy:\",metrics.accuracy_score(y_test, predicted))"
   ]
  },
  {
   "cell_type": "markdown",
   "metadata": {},
   "source": [
    "Not great, but it was fun making it. Maybe it could be useful for some bigger dataset. Here is the link for the code: https://www.datacamp.com/community/tutorials/text-analytics-beginners-nltk. \n",
    "\n",
    "Ok, wait, wait. They say they can improve it..."
   ]
  },
  {
   "cell_type": "code",
   "execution_count": 18,
   "metadata": {},
   "outputs": [],
   "source": [
    "from sklearn.feature_extraction.text import TfidfVectorizer\n",
    "tf=TfidfVectorizer()\n",
    "text_tf= tf.fit_transform(df['review'])"
   ]
  },
  {
   "cell_type": "code",
   "execution_count": 19,
   "metadata": {},
   "outputs": [],
   "source": [
    "from sklearn.model_selection import train_test_split\n",
    "X_train, X_test, y_train, y_test = train_test_split(\n",
    "    text_tf, df['stars'], test_size=0.3, random_state=123)"
   ]
  },
  {
   "cell_type": "code",
   "execution_count": 20,
   "metadata": {},
   "outputs": [
    {
     "name": "stdout",
     "output_type": "stream",
     "text": [
      "MultinomialNB Accuracy: 0.4523809523809524\n"
     ]
    }
   ],
   "source": [
    "from sklearn.naive_bayes import MultinomialNB\n",
    "from sklearn import metrics\n",
    "# Model Generation Using Multinomial Naive Bayes\n",
    "clf = MultinomialNB().fit(X_train, y_train)\n",
    "predicted= clf.predict(X_test)\n",
    "print(\"MultinomialNB Accuracy:\",metrics.accuracy_score(y_test, predicted))"
   ]
  },
  {
   "cell_type": "markdown",
   "metadata": {},
   "source": [
    "Definitely, not good... Ok, it was fun making it, maybe it will be useful on larger datasets. Or I should set the target variable as binary. For example: (1, 2, 3 stars - 1), (4, 5 stars - 5)"
   ]
  },
  {
   "cell_type": "markdown",
   "metadata": {},
   "source": [
    "## Column values to list"
   ]
  },
  {
   "cell_type": "code",
   "execution_count": 21,
   "metadata": {},
   "outputs": [
    {
     "name": "stdout",
     "output_type": "stream",
     "text": [
      "[\" This app was hit or miss until I found I had an issue with my LG G5 phone. It was not picking up the satellites very well. When I use this app on my wife's phone it works nicely. Happy with this apps functionality now when using it with my Can Am Spyder. Would have given this app 5 stars but I canno...Full ReviewThis app was hit or miss until I found I had an issue with my LG G5 phone. It was not picking up the satellites very well. When I use this app on my wife's phone it works nicely. Happy with this apps functionality now when using it with my Can Am Spyder. Would have given this app 5 stars but I cannot currently hear the apps voice output through my helmet communicator. Might figure that out yet and then update this review. There are free apps for testing the gps functionality of your phone.\", ' Would like to see a round route option, but better than some other apps', \" To use it, you need another $45 app so your vehicle can connect to it. So it's two apps, the maps, and connection app, which means double the money. They don't tell you this up front. What a rip off! Bit the bullet and bought after google maps no longer worked with BRP connect. After using, no chang...Full ReviewTo use it, you need another $45 app so your vehicle can connect to it. So it's two apps, the maps, and connection app, which means double the money. They don't tell you this up front. What a rip off! Bit the bullet and bought after google maps no longer worked with BRP connect. After using, no change in my rating. It still sucks.\", \" This app was hit or miss until I found I had an issue with my LG G5 phone. It was not picking up the satellites very well. When I use this app on my wife's phone it works nicely. Happy with this apps functionality now when using it with my Can Am Spyder. Would have given this app 5 stars but I canno...Full ReviewThis app was hit or miss until I found I had an issue with my LG G5 phone. It was not picking up the satellites very well. When I use this app on my wife's phone it works nicely. Happy with this apps functionality now when using it with my Can Am Spyder. Would have given this app 5 stars but I cannot currently hear the apps voice output through my helmet communicator. Might figure that out yet and then update this review. There are free apps for testing the gps functionality of your phone.\", ' Would like to see a round route option, but better than some other apps', \" To use it, you need another $45 app so your vehicle can connect to it. So it's two apps, the maps, and connection app, which means double the money. They don't tell you this up front. What a rip off! Bit the bullet and bought after google maps no longer worked with BRP connect. After using, no chang...Full ReviewTo use it, you need another $45 app so your vehicle can connect to it. So it's two apps, the maps, and connection app, which means double the money. They don't tell you this up front. What a rip off! Bit the bullet and bought after google maps no longer worked with BRP connect. After using, no change in my rating. It still sucks.\", \" First impressions are good. I like the interface and how the instructions are announced. The only two annoyances are the current road that you're driving on is a very small text at the bottom that is easy to miss, and the TTS needs to be fixed (eg, turn left on ess Main S-T...as opposed to how it's ...Full ReviewFirst impressions are good. I like the interface and how the instructions are announced. The only two annoyances are the current road that you're driving on is a very small text at the bottom that is easy to miss, and the TTS needs to be fixed (eg, turn left on ess Main S-T...as opposed to how it's written: S Main St)\", \" I'm limited in my choices for map apps for BRP connect (wishing now I didnt invest in the skidoo LCD colour screen), so tried this one out. God awful. It was advertised as good for offline, and off roads (to me that means backcountry). It literally looks unloaded, not a single stream, no topographic...Full ReviewI'm limited in my choices for map apps for BRP connect (wishing now I didnt invest in the skidoo LCD colour screen), so tried this one out. God awful. It was advertised as good for offline, and off roads (to me that means backcountry). It literally looks unloaded, not a single stream, no topographic detail. Steer clear Canadians. Stay away from this app and the skidoo LCD screen.\", \" App crashes phone. Contacted seller for refund. Asked to contact Google for refund but wasn't able to get refund due time constraint. Contacted PayPal and started a resolution case. Apart from not being able to use this and the traffic app on my phone connected to the bike I would rate this app as p...Full ReviewApp crashes phone. Contacted seller for refund. Asked to contact Google for refund but wasn't able to get refund due time constraint. Contacted PayPal and started a resolution case. Apart from not being able to use this and the traffic app on my phone connected to the bike I would rate this app as post poor.\", \" Works great, premium is worth the buy. Lots of settings to customize but once that's done its fantastic. Great for back road travels.\", ' Downloaded app after trial , seems ok but would not connect to my vehicle , after another cost , I would think that if once downloaded at certain cost would , not like I needed another map app on phone , needed this one for vehicle, little bit of a con as for pricing in my opinion', \" Highly disappointed that I paid almost $50 for this app. The 2x's I simply used it to see road names and my location it failed and just spun. .\", ' 99% of the time fully useless, 1% of the time perfect. REINSTALLING APP AFTER EACH UPDATE HAS BEEN A STANDARD (and downloading all the maps each and every time, plus settings, plus purchased data)', ' very good navigation, active zoom and real time exit images improving. wish there was a work favorite like home. keep at it, enjoying the experience', ' This app is a pain to get to work!!! 2 days and still no progress.', \" £59.98 for Pro version and live traffic.  You have to be kidding me. For something that doesn't even work. Tried to search for places and all I got was a black screen. I could turn my phone onto standby for free and get the same effect. When you are trying to sell something at least make sure it works. Oh and Here navigation is free and fully functional. Please don't rip people off. And especially for maps that was released in 2019. As you may have guessed already, yes I've uninstalled it.\", ' The detail of Genius Maps is great. I like that it offers several route options to choose from which are easy to toggle between. My only complaint I have is the interface between my smartphone and the BPR CONNECT app. Better instructions from Can Am would be appreciated, but that is not the fault of...Full ReviewThe detail of Genius Maps is great. I like that it offers several route options to choose from which are easy to toggle between. My only complaint I have is the interface between my smartphone and the BPR CONNECT app. Better instructions from Can Am would be appreciated, but that is not the fault of Genius Maps. Kudos for great gps software at a very reasonable price.', ' Unfortunately this app will only work for less than an hour and then I get the \"this app is no longer working\" message. When it works it is great, just don\\'t know why it keeps stopping. It has caused my phone to overheat more than once, a Samsung note 8. I use this app on BRP Connect on my Spyder. W...Full ReviewUnfortunately this app will only work for less than an hour and then I get the \"this app is no longer working\" message. When it works it is great, just don\\'t know why it keeps stopping. It has caused my phone to overheat more than once, a Samsung note 8. I use this app on BRP Connect on my Spyder. Where can you get help with this?', \" This app was not cheap. But it integrates well with Land Rover vehicles when you purchase that option which I cannot do with either Maps or Waze. I purchased the entire suite including traffic and that has helped me out twice here in Chicago rush hour in my 4 months so far of having the app. And onl...Full ReviewThis app was not cheap. But it integrates well with Land Rover vehicles when you purchase that option which I cannot do with either Maps or Waze. I purchased the entire suite including traffic and that has helped me out twice here in Chicago rush hour in my 4 months so far of having the app. And only once has it led me through city streets for no apparent reason. Next time it will be an email to the developers if it happens again. I don't regret purchasing the app. it was worth it.\", \" Have some problems...app comes up fine, EXCEPT when I try to access it via the BRP connect feature on my 2018 Can Am motorcycle, which is the reason I downloaded it..it keeps giving me a screen that say to configure the app. Have done everything I can to make it work, it won't....I checked the websi...Full ReviewHave some problems...app comes up fine, EXCEPT when I try to access it via the BRP connect feature on my 2018 Can Am motorcycle, which is the reason I downloaded it..it keeps giving me a screen that say to configure the app. Have done everything I can to make it work, it won't....I checked the website and it says I have it installed and my account was billed 44,95.  Samsung Galaxy S4 Any help???\", \" This application is not stable. it stops randomly while you're traveling. In order to restart, I have to pull off the road, turn the bike off, open the front trunk and restart. I hate it! Now the 2018 Spyder wont recognize my purchased maps. yes, I have restored purchases and it shows purchased on t...Full ReviewThis application is not stable. it stops randomly while you're traveling. In order to restart, I have to pull off the road, turn the bike off, open the front trunk and restart. I hate it! Now the 2018 Spyder wont recognize my purchased maps. yes, I have restored purchases and it shows purchased on the app. Needs a lot of work!!!\", ' Do not buy this app. The description is deceptive and the app developers admit that it only works with very few car infotainment systems. I need to resubmit my review. It is not the fault of the app developers the BRP gave misleading information. The app itself is very good and functions well.', ' Navigation is ok, the voice instructions are particularly clear and helpful, but the interface is not ideal, the information boxes are too large for my liking, and cannot be resized, can only be on or off. When I have updated the app resets to defaults (kilometres, 12 hour clock, avoidances, notific...Full ReviewNavigation is ok, the voice instructions are particularly clear and helpful, but the interface is not ideal, the information boxes are too large for my liking, and cannot be resized, can only be on or off. When I have updated the app resets to defaults (kilometres, 12 hour clock, avoidances, notifications, voice, etc) so I have to go through them all and reset to my preferences.', ' Im not paying for this when Google maps are free and a whole lot quicker, that is for sure. I love my Spyder, but I hope BRP EITHER pays someone or someone builds a site that is useable and simple and free of costly maps and directions . Most people already have GPS, and now how to use them. Please ...Full ReviewIm not paying for this when Google maps are free and a whole lot quicker, that is for sure. I love my Spyder, but I hope BRP EITHER pays someone or someone builds a site that is useable and simple and free of costly maps and directions . Most people already have GPS, and now how to use them. Please keep building the Spyders snd other vehicles. Thank you for building such fine vehicles for the whole world to use and enjoy D.P.TOLMAN', ' volume on this map is low. even though i have my volume on my BRP all the way up and also have the volume on the genius maps up. you cannot hear the voice telling you where to go because its low. ive tried to youtube. the volume is not compatible to brp connect. the volume need to be louder than it ...Full Reviewvolume on this map is low. even though i have my volume on my BRP all the way up and also have the volume on the genius maps up. you cannot hear the voice telling you where to go because its low. ive tried to youtube. the volume is not compatible to brp connect. the volume need to be louder than it is for us to hear the directions clearly while drivinv.', ' The GPS or Better yet the \"maps\" are not up to date.....in my town alone it is showing where the Post office was for 15 years..and not its actual location.it also does not recognise road works....whereas my Google maps does!.....unfortunately I do not have much of a choice with my BRP connect.', \" Although I purchased the IVI connectivity module, I have not been able to get the app to display in my Honda Civic's IVI. I've longed for Here Maps or Here WeGo to work with Mirrorlink, so I jumped at the possibility and bought all the Mireo stuff I thought would make it work. I emailed Here Corp ye...Full ReviewAlthough I purchased the IVI connectivity module, I have not been able to get the app to display in my Honda Civic's IVI. I've longed for Here Maps or Here WeGo to work with Mirrorlink, so I jumped at the possibility and bought all the Mireo stuff I thought would make it work. I emailed Here Corp years ago begging them to implement Mirrorlink functionality. If Genius Maps can make this work, id be satisfied.\", ' US driver Pioneer 2300 and Galaxy S8. Bought car sync, traffic etc. Everything worked great except Pioneers AppRadio crashes. Use Genius Maps as backup when Android Auto crashes. Use phone display somewhat but link through BT instead just to hear the directions. Took a long time to DL maps but after...Full ReviewUS driver Pioneer 2300 and Galaxy S8. Bought car sync, traffic etc. Everything worked great except Pioneers AppRadio crashes. Use Genius Maps as backup when Android Auto crashes. Use phone display somewhat but link through BT instead just to hear the directions. Took a long time to DL maps but after they did all is well. Feedback is to auto populate destination when clicking address from (Samsung) calendar also to offer landscape mode. Pretty interface. Ok directions/traffic NE USA.', ' Works great offline. (Actually, better than great - beyond all expectations)', \" One of the easiest and clearest UI among all navigation software I've seen. A big drawback: The maps are not updated and there is no traffic service in my area. So I do not see a reason to purchase this product in the meantime.\", ' I have used this app for many years on my travels through Europe, it always brought me to the places I wanted to be. An extra plus is the voice of Doug Benson (which you have to buy extra), which is amusing.', \" Haha, oh wowzers, what a gigantic waste of time. This app doesn't optimize route stops. At all. You just put them in and it uses that order. What a tremendous waste of time! There are no good apps for multiple stops! Makes me want to scream!\", ' Used for the first time whilst on trial period, seems good told me to slow down when in a 30 mph limit. Guidance seems good. Will purchase as car system is too expensive for map updates.', \" Upated from Don't Panic & enjoying the new stuff.\", ' It is great to have an offline map for getting around foreign countries. No cell service required. And there are lots of downloadable maps. Thanks!', ' I use this mainly in Spain and on every journey there is a fault! Told to go off a motorway then immediately back on, oneway systems and pedestrian precincts not recognised. Next time I use it in Spain I intend to catalogue every fault and send them to you. Really not good enough for a paid service.', \" Very slow app. Unable to use with in control apps for jaguar xe. It's jerky and slow. For a paid for app it's rubbish. Obviously money not spent wisely on this occasion.\", ' Saved a few locations and they were on my locations list. Came back home later in the evening and all are gone. Dissapointing and thought, what a good looking app, wanted to purchase it after the trial is gone.', ' Love the spoken directions but routing hardly ever provides the best routes and maps are not up to date compared with other providers ( tested in France) Regretfully not worth the cost in my opinion.', ' The application is very good and user friendly i like the 3D interface on the buildings i would like also the information about avoid roads to be more clearly to the user .... keep up the good work guys !!', \" Very easy to use especially being able to run offline, great for car or walking. A great useful addition to anyone's array of maps.\", ' Excellent app I recommend it, clear voice directive, works without mobile data, speed limit commands are awesome, thank you Genius Maps.', ' app worked fine for a couple months now gives message on my 2018 spyder disconnect and reconfigure app on smartphone need help. Have tried 5 times to reach support with no response', ' Tried this app because Pioneer updated AppRadio and Waze stopped working. It may be a good app, but a 1 week free trial? Why pay for an app when Google and Waze are free?', ' Very good, However, the map of Egypt is too old and need to be updated.', ' Works great. Can you display the current speed in a larger font?', \" Good. Integrates well with BRP Connect on my Spyder RT. I'd give it 5 stars if there was an online tool to plan routes and then download to my cell.\", ' Getting better with each update. still cant search for crossroads (intersections).', ' Good app. Use it in remote locations with no mobile services.', ' Support ignores e-mails. No Android Auto support. Car connectivity costs extra.', ' Paid for pro. Maps will not update. Went back to Waze navigation free', ' A good app however it is annoying that it has now stopped free download of the maps', ' A good clear map showing road names clearly. Shows traffic conditions well.', ' Best map/routing/gps program I have tested! Please add \"import gpx\" function.', ' super.. very clear and concise includes speed monitoring', ' Fantastic app, used it both BlackBerry now android platform, works a treat.', ' The app looses gps signal in case I use it via land rover incontrol.', ' Very good app it workes well done', ' Prices to connect to car is very very high.Not recommended at all.Rip.off', ' Getting better with each update. Very good app.', ' Terrible! totally unclear, except for purchase this and purchase that. They made that VERY easy to do!', \" The best map app I've ever used. 5 out of five stars\", ' Fantastic app and great customer support!', ' Went from Pennsylvania to Maryland Maryland Maps faded out was rotting On the Border of Pennsylvania Maryland the screen showed partial Pennsylvania Maryland side blank', ' Bad map rendering, it is not smooth', ' just a shamed you cant get European map so you can interlinked maps to drive from UK to Prague', ' Excellent.... Even off road works great!!!!', ' fantastic app shows every house where it is .', ' perfect for the radio in my truck!', ' great app works great offline highly recomended', ' Great app. Works with my 2018 Can Am Spyder!', ' Suck on those gigabytes and wants internet connection.. Did i not read offline maps apps.', ' Am very pleased to estimates my trips with accurate ETA', ' Does not work. Would like a refund', ' Simple and functional.', ' Had given a bad review originally but after using the programme I think it is the best. A bit difficult in finding POIS though...', \" would give a 0 if i could. just bought 3 different downloads and my Jag says configure app on phone. don't buy!\", ' it appears to be getting better all the time', ' Great app when your off line .v', \" can't get it to work. no support.\", \" customer service don't respond at my messages or takes days to respond\", ' i like this app even if m not driving i get everywhere i want without getting lost', ' Purchased but keeps saying it is a trial.', ' Why you need to paid this app to unlock all features', ' superb, very accurate, excellent. thanks', ' Needs to be cheaper', ' Great app not quite use to it just', \" I can't make it to show on the screen.\", ' easy to use.', ' A great app indeed', ' Purchased for pioneer and afterbpurchase stopped working requesting refund', ' good app work pretty good so far', ' Good to have such application', ' using data from here maps', ' Works great while traveling on our Can-am Spyder RT', ' Very good I like it', ' I absolutely love the app', ' Hate it but Must Can-Am makes you useiy', ' this is the best for directions', ' A beautiful helper...', \" can't get it to work\", ' It is good', \" It's very good\", ' Not yet been useful', ' cost to much', ' One word sucks', ' It is a real shame after about 7 years or so there is still no live maps for the Philippines. There are a number of other apps that have live traffic some are free, but I am willing to pay for it. If it had it I would give this 5 stars.', ' Since Genius Maps changed maps provider everything works like a dream - also their Customer service is second to none!', ' Very nice update.. all in one update.. good job mireo.. poi category is ', ' Some roades not up to date but fast rerouting steel good', ' Excellent off-line navigation, very accurate. I have used in North America, Europe including the UK, and Australia with great reliability.', ' VERY ACCURATE FOR OUR REGION', ' excellent navigation app that needs no mobile signal to function. routes are calculated almost instantly as is re-routing, in case you go your own way on part of a journey. top class. highly recommended.', ' This app very smart and correct', ' This is the only professional navigation app. The era of free navigation apps that are not as smart as this, they will take you through an easy route and not the truly faster one. This one is the only one that if you actually follow it exactly, will teach you some real shortcuts even in areas that y...Full ReviewThis is the only professional navigation app. The era of free navigation apps that are not as smart as this, they will take you through an easy route and not the truly faster one. This one is the only one that if you actually follow it exactly, will teach you some real shortcuts even in areas that you think you know very well. High recommend.', ' Map missing', ' This application has a constant problem with voice guidance ,no matter which voice I use....Even after complete reinstallment and use on different smart phone nothing changes...very dissapointing. Tech. support is virtualy non existant and useless.', ' Very dissappointing app. Does NOT have a spoken street names. Google and \\r\\nWaze are much more better that this app.', ' Great travel map app. I use this with my BRP Syder 2018 RT Ltd. It has \\r\\ntaken a fair amount of time to get the interface working the way that I \\r\\nwould like.', ' Would be nice if you could enter more than one stop, I checked avoid \\r\\nunpaved roads so where does it send me Yea a gravel road', ' Fonts and icons too small. When compared to Mireo Dont Panic this app is missing most of the great features of Mireo Dont Panic. Wish old product was still available.', \" Sent me off on goose chases. Didn't notify that updates were available\", ' Sometimes slow respond to the turns', ' Very Helpful', \" This app comes with a bunch of hidden costs before you can actually use it. \\r\\nI followed the prompt of my car deck to install it. I paid ca CAD 80 (which \\r\\nin itself was very misleading, for the price I thought I bought if for \\r\\nturned out to be Euro's and thus twice as much as I thought, and thought \\r\\n...Full ReviewThis app comes with a bunch of hidden costs before you can actually use it. \\r\\nI followed the prompt of my car deck to install it. I paid ca CAD 80 (which \\r\\nin itself was very misleading, for the price I thought I bought if for \\r\\nturned out to be Euro's and thus twice as much as I thought, and thought \\r\\nthat was it. I was very surprised that the deck told me to buy another app \\r\\nand contacted Mireo. They told me to buy Pro Guidance and and than to buy \\r\\nVehicle Connectivity to make it work. This was never advertised and I \\r\\nwouldn't have downloaded this if I had known in advance that you need to \\r\\nkeep buying apps to get this system working.\", ' This app is not user friendly. It is difficult to get the app locate any \\r\\naddress. Plus you cannot save addresses in my places that are known to you. \\r\\nThis needs a google map connection to allow it to function like a standard \\r\\nnavigation system.', ' For a paid app this is surprisingly un user friendly and in true Garmin \\r\\nfasion very locked in. Detail is fairly low compared to GPS data however \\r\\nmaybe the price for offline maps. Still my offline choice.', ' I got this app to work with BRP CANAM. Once you get settled in it works a \\r\\ntreat. Voice alerts needs to be sorted though as it cuts last words out.', \" Since last update I can't use this app cause there aren't any rodes near \\r\\nme.  Still not working. And when it's working. Well let's be honest, \\r\\nthere are other apps that give you more for free..\", ' With the new version, this app is excellent. They fixed location services.', ' Works with BRP connect. The roads are too small on it to see. Maybe it \\r\\nworks with cell phones.', ' disappearing maps, not user friendly', ' When I was Croatia, I bought geo vision tour navigation.mapsgenius maps but \\r\\nnever workings .and never accepted restored', ' Fantastic user friendly app. The best and most simple to use with sharp and \\r\\nclear advanced directions.', ' adware, bad routing', ' The free app so far.', ' It is good, but does cost some.', ' genius maps stoped after last update on 13.04, my phone is asus zenfone2 \\r\\n551ml(intel core 3560). Mireo, what went wrong?', ' Cant get this to work So cant tell you much about it', \" I have this app installed on my phone and want to know if it has connectivity to 2018 Honda Civic screen. I have written to support and haven't received any response. Once the purchase is made they don't care to respond. Their tech support sucks.\", \" Japanese's map is missing that is really sad and unfair. To be added and improved.\", ' I think its good if Pro Guidance and Live Traffic in 1 price, to expensive if you separate them, and please update map for Indonesia, current map (June 2017) its very old, now 2018. Thanks.', \" This app works really good finds the addresses that I'm looking for unlike some of the other most popular apps the only thing I would like to see some changes is to add a volume control for The Voice so it won't be so loud when I have the radio up loud I would like to be able to control that.\", ' The only thing i really miss are the subway lines - not a trace of them.', ' The \"free\" version has no sound / directions / traffic info, It\\'s pointless. The cost of paid pro version is about the same as a standalone satnav, whereas Google Maps is free.', \" I have used  this app for years but Mireo won't allow me to  transfer license from my blackberry to Android.\", ' There is no vice navigation  you have to pay for that I would think it  would at least tell you that you reach the address for free', ' Great app. I love the skins and...finally an app with up-to-date maps of Croatia!!!', \" doesn't support iran maps\", ' This app is good I like it', \" t's perfect from every aspect the only thing I would like additionally would be head up display. Best gps app and maps. Good job!!!\", ' Does not start without access to contacts', \" Doesn't work with uber driver why?\", ' Its very good only need a lil improve in address finding', ' Only has point to point. What if you want to create a map for a multi point route? Google maps is free and gives all this and more.', ' Works for me. Great app so far!', ' Great offline map', \" I'm giving you a try (after purchasing everything) and what I found is that address search is not flexible as other apps. If I don't write them in the way Genius wants, it gives not found. You should try to give flexibility and suggest addresses. Also, linking addresses ONLY with contacts means that...Full ReviewI'm giving you a try (after purchasing everything) and what I found is that address search is not flexible as other apps. If I don't write them in the way Genius wants, it gives not found. You should try to give flexibility and suggest addresses. Also, linking addresses ONLY with contacts means that I have to add every destination as a contact? No. Please, take a look how is the approach on other well-known maps. I support you but please fix this. Thanks! PS1. The spelling of streets (at least in spanish) is not good. PS2. Quite expensive compared to other solutions.\", ' They give me free app on prize game and if i change device i lost it. Only on that device that you won the game. CHEATERS!!!', \" Ridiculous.  2 out of every 5 addresses couldn't be found, other than by zooming in and out and pointing it out on the map, only to have the road written just as you entered it in the first place\", ' Never worked, never even showed a map: just a blank screen with a cursor. Absolutely pointless shite.', ' Very hard to install.. . Kept defaulting back to purchase this product after I bought it NOT User friendly with no tech support number', ' Japan is not even here. Wasted my time.', \" I don't have any serious objection on it...nice app.\", \" POS. Corer's behind this are idiots.\", ' Good for offline navigation', ' IM SATISFIED    I', ' I cant find my home adress  and it wont let me input it either not good for the united states awesome graphics  though it would be nice if they fix the addresses', ' I have only used the free version so far, but I find it very useful offline. even in a very remote area of Peru it had very minor roads.', ' This is awful navigation if you can call it that way  ! ! !', ' good app, but should fix crashes sooner.', \" I've tried a few and this seems the easiest and most intuitive. Like the graphics as well.\", ' I am very satisfied. It is reliable and precise app.', \" It's great graphics are da best\", \" Pretty nice, some monor mistakes, search function doesn't always work. Overall, a useful and ok-for-its-money application.\", ' Missing my home address, no reply on my question from Mireo. I had program on my BB Z30 with no problem, on android not good at all', ' No Serbian language.  Shame...', \" Great offline navigation app, even better than the excellent Don't Panic app it replaced! The UI is well designed, recalculation is super fast, and for large countries like the USA you have the option to download a map for a specific region and save space (in older app you had to download the entire...Full ReviewGreat offline navigation app, even better than the excellent Don't Panic app it replaced! The UI is well designed, recalculation is super fast, and for large countries like the USA you have the option to download a map for a specific region and save space (in older app you had to download the entire map).\", \" Moved from Mireo 's don't panic to this. Great stuff as usual, you get what you pay for. Excellent maps and visuals.\", 'The best App! I love this app...with it you are sure not to get lost', 'Genius map Very good application.', ' Great maps', \"Almost perfect for me, but no dice I want very simple things from a navigation app: good traffic info (check), intuitive, easy to use (check), navigation with the 2D map (almost), navigation with north pointing UP (not quite) -- yes I'm weird, but I cannot read a map when it keeps rotating at every turn. Even though I can convince it...Full ReviewI want very simple things from a navigation app: good traffic info (check), intuitive, easy to use (check), navigation with the 2D map (almost), navigation with north pointing UP (not quite) -- yes I'm weird, but I cannot read a map when it keeps rotating at every turn. Even though I can convince it to temporarily show the map in 2D with north up, it instantly reverts to 3D/rotating map the moment it recenters the map. Deal breaker, uninstall.\", \"Pretty good Nice and neat interface. Only needs to update Puerto Rico map. Maybe others are experiencing the same issue. Other issue is that it kind of drains the battery cause it stays on the background even if it ain't navigating. Overall, I think it will stay with me for my navigation needs.\", 'Fantastic App - Needs a few fixes I have a phone that does not use any data. I use this app 100% of the time when traveling. I love it a ton but wish for only a few updates: 1) Road names need match the road sign. Roads sometimes have two names (ex. I-88 and Regan Memorial Highway) but I need the signs and app to match, otherwise I ...Full ReviewI have a phone that does not use any data. I use this app 100% of the time when traveling. I love it a ton but wish for only a few updates: 1) Road names need match the road sign. Roads sometimes have two names (ex. I-88 and Regan Memorial Highway) but I need the signs and app to match, otherwise I keep glancing at my phone which leads to less attention to the road. 2) Turns after your current turn. For quick turn after another, being sure to merge and plan ahead properly. Otherwise, fantastic app!!', ' Great app used first demo and then bought it Perfect ', 'Very very very ... slowly Uninstall immediatelly', \"Bug - Note 3 LTE 5.0 Hi! The app is great but it has a bug. When you first start a route, the screen zooms out as far as it can making it very tricky to see anything or to zoom back in while driving. This also happens sometimes when exiting a highway. Also, why did you put additional step before starting the route? If y...Full ReviewHi! The app is great but it has a bug. When you first start a route, the screen zooms out as far as it can making it very tricky to see anything or to zoom back in while driving. This also happens sometimes when exiting a highway. Also, why did you put additional step before starting the route? If you selected the route, you don't need to confirm it again.\", 'Not bad if it opens! The navigation is great, but the app runs one time only! If I close the app after the first run, then open it again, it is stuck at the splash screen forever!', 'Superb Directions, routing, traffic and arrival times are very similar to Google Maps.', 'Good product Powerful multi choices routing', \"Pathetic service They said you can transfer purchase on to new device but now they say if platform is different they can't transfer purchase really terrible service guys big no don't purchase from cheaters\", 'Unable to restore paid content. Purchased the app but after switching devices I am unable to restore content. Loved the application but not enough to buy it twice.', ' Had this on several platforms and never had any major problems. Mirror Link connectivity would be a great addition but only if the voice directions are louder than the radio when connected.', ' I love this app and this app is the best gps ever', 'Works great Fast route calculation, good map coverage and frequent map updates. Never crashed.', ' reliable solution to offline navigation', 'Donot panic users Downloaded the app and my maps and voices that were bought on MireoDonotPanic are not included?! It is the same product with a different name. And the old app can not be downloaded on the play store.', \"Brilliant app, I tend to use this app instead of my TomTom sat nav. It's easy to use once you get used to it. Updates your route as required according to traffic conditions.\", \"Great GPS navigation app! The best GPS navigation app I ever encountered, I love it! Works perfectly fine on my HTC One S. I love the ability to download individual map data by country instead as whole map packs (as is featured in Don't Panic). I also love the user interface style (much more pleasing than the one from Don't ...Full ReviewThe best GPS navigation app I ever encountered, I love it! Works perfectly fine on my HTC One S. I love the ability to download individual map data by country instead as whole map packs (as is featured in Don't Panic). I also love the user interface style (much more pleasing than the one from Don't Panic, it is more like 3.1 Black Edition). Great work developer!\", 'App crashes App keeps crashing when I use it please  fix I like the app', \"Works well I've used this as sat nav here in UK and overseas, it has served well and been reliable.\", 'Expensive Premium too expensive', 'genius is  super cool wish it were cheaper thou', ' Very good coverage on street address', 'Mr Loved  it very helpful', 'I hope it helps... During travelling, it isnt avoidable for me to travel to a such places i didnt even knew before...i wish free is forever', 'Why no india You missed great nation', \"Genius Map Offline Try to download this app ,it great to used ,i assure u'll not regret... ;-)\", 'One of the best Worked everywere i was', 'Good map Good friend', \" It's a must for travelers.\", \" Missing many options, for example: I want to see speed limits but don't want irritating sound every 10 seconds, I want to see signpostst but not over whole screen in portrait mode, I want to see more usefull info on lower part of screen and not only predefined one. On one important occasion it didn'...Full ReviewMissing many options, for example: I want to see speed limits but don't want irritating sound every 10 seconds, I want to see signpostst but not over whole screen in portrait mode, I want to see more usefull info on lower part of screen and not only predefined one. On one important occasion it didn't re-route when I chose another path myself, on another occasion it routed me in the form of 4-leaf clover over a junction instead just straight line.\", \" Support know I have purchased items but can't provide a way to restore them on my new phone\", \" I would give this application five stars if it had any points of interest. I have the older version of these Maps and they usually find what I'm looking for. If I have to use Google to find the nearest Tim Hortons I might as well use Google Maps.\", ' Omg another rip off map app that uses free open sause maps ill stick with Google', ' I hate this f****ng app they do no cover whole world.', 'Crash Maps It crashes constantly.', ' Stupid!!..after download for hours, still have to purchase it!!. CHEATER!!.. NOT FREE apps!!..', \"Ungenious map. It's not working, it cannot search places . uninstalled.\", ' This was a big help to us esp we travelled frim mindanao to visayas.', ' Not a bad app I guess wade app is way better imo', 'Could be a lot better EXTREME battery consumption', ' I is helpful to find way on emergency', ' Nice UI. Terrain maps are pretty.', ' Very useful and love it', 'Pakistan Pakistan not included...................', ' Copilot was better', 'Maps Efficient', ' Verry good apps.', ' very nice map', ' Good nav app', ' perfect ,buckle up', ' The best', ' Paid', ' Excellent', ' I like it', ' I like it', ' Good', ' Good', ' Great app', ' great', ' awesome', ' Navigacija je super, sve pohvale!', ' Super', ' at and', ' great', ' very good app', ' Great offline app.', ' Super!', ' good', ' Good', ' Extra samo da bude dzabe bilo bi jos bolje', ' Descent app', ' The Best', ' Best!', ' Not good', ' .', ' Nice app', ' Good', \" It's good\", ' Good app', 'Genius maps Nice app', ' Great App', ' Good app. ', 'Awsome! Awsome app', ' Great!', ' Good', 'Ok Nice', ' nice i realy like it', ' Stane na ekranu podešavanja i nejde dalje.', ' Panalo to!', ' I Love It', ' g8od', ' Great app', ' Excellent app', ' Very good']\n"
     ]
    }
   ],
   "source": [
    "print (df.review.tolist())\n"
   ]
  },
  {
   "cell_type": "code",
   "execution_count": 22,
   "metadata": {
    "scrolled": true
   },
   "outputs": [
    {
     "name": "stdout",
     "output_type": "stream",
     "text": [
      " This app was hit or miss until I found I had an issue with my LG G5 phone. It was not picking up the satellites very well. When I use this app on my wife's phone it works nicely. Happy with this apps functionality now when using it with my Can Am Spyder. Would have given this app 5 stars but I canno...Full ReviewThis app was hit or miss until I found I had an issue with my LG G5 phone. It was not picking up the satellites very well. When I use this app on my wife's phone it works nicely. Happy with this apps functionality now when using it with my Can Am Spyder. Would have given this app 5 stars but I cannot currently hear the apps voice output through my helmet communicator. Might figure that out yet and then update this review. There are free apps for testing the gps functionality of your phone.. Would like to see a round route option, but better than some other apps. To use it, you need another $45 app so your vehicle can connect to it. So it's two apps, the maps, and connection ap\n"
     ]
    }
   ],
   "source": [
    "a = '.'.join(df.review.tolist())\n",
    "print (a[:1000])"
   ]
  },
  {
   "cell_type": "code",
   "execution_count": 23,
   "metadata": {},
   "outputs": [
    {
     "data": {
      "text/plain": [
       "str"
      ]
     },
     "execution_count": 23,
     "metadata": {},
     "output_type": "execute_result"
    }
   ],
   "source": [
    "type(a)"
   ]
  },
  {
   "cell_type": "code",
   "execution_count": 24,
   "metadata": {},
   "outputs": [],
   "source": [
    "from nltk.tokenize import word_tokenize"
   ]
  },
  {
   "cell_type": "code",
   "execution_count": 25,
   "metadata": {},
   "outputs": [
    {
     "data": {
      "text/plain": [
       "['This', 'app', 'was', 'hit', 'or', 'miss', 'until', 'I', 'found', 'I']"
      ]
     },
     "execution_count": 25,
     "metadata": {},
     "output_type": "execute_result"
    }
   ],
   "source": [
    "a_tokens = word_tokenize(a)\n",
    "a_tokens[:10]"
   ]
  },
  {
   "cell_type": "code",
   "execution_count": 26,
   "metadata": {},
   "outputs": [
    {
     "data": {
      "text/plain": [
       "8233"
      ]
     },
     "execution_count": 26,
     "metadata": {},
     "output_type": "execute_result"
    }
   ],
   "source": [
    "len(a_tokens)"
   ]
  },
  {
   "cell_type": "code",
   "execution_count": 27,
   "metadata": {},
   "outputs": [],
   "source": [
    "from nltk.probability import FreqDist\n",
    "fdist = FreqDist()"
   ]
  },
  {
   "cell_type": "code",
   "execution_count": 28,
   "metadata": {},
   "outputs": [
    {
     "data": {
      "text/plain": [
       "FreqDist({'.': 458, 'the': 265, 'to': 223, ',': 220, 'i': 216, 'it': 205, 'app': 167, 'and': 165, 'a': 117, '..': 116, ...})"
      ]
     },
     "execution_count": 28,
     "metadata": {},
     "output_type": "execute_result"
    }
   ],
   "source": [
    "for word in a_tokens:\n",
    "    fdist[word.lower()]+=1\n",
    "    \n",
    "fdist"
   ]
  },
  {
   "cell_type": "code",
   "execution_count": 29,
   "metadata": {},
   "outputs": [
    {
     "data": {
      "text/plain": [
       "[('.', 458),\n",
       " ('the', 265),\n",
       " ('to', 223),\n",
       " (',', 220),\n",
       " ('i', 216),\n",
       " ('it', 205),\n",
       " ('app', 167),\n",
       " ('and', 165),\n",
       " ('a', 117),\n",
       " ('..', 116),\n",
       " ('is', 112),\n",
       " ('this', 102),\n",
       " ('not', 95),\n",
       " ('for', 91),\n",
       " ('my', 86),\n",
       " ('you', 79),\n",
       " ('!', 75),\n",
       " ('on', 71),\n",
       " ('that', 65),\n",
       " ('maps', 65)]"
      ]
     },
     "execution_count": 29,
     "metadata": {},
     "output_type": "execute_result"
    }
   ],
   "source": [
    "fdist.most_common(20) # make some drops - then find the most common actually useful words :)"
   ]
  },
  {
   "cell_type": "markdown",
   "metadata": {},
   "source": [
    "# Word Cloud "
   ]
  },
  {
   "cell_type": "code",
   "execution_count": 30,
   "metadata": {},
   "outputs": [],
   "source": [
    "from wordcloud import WordCloud, STOPWORDS\n"
   ]
  },
  {
   "cell_type": "code",
   "execution_count": 31,
   "metadata": {},
   "outputs": [
    {
     "name": "stdout",
     "output_type": "stream",
     "text": [
      "{'she', 'because', 'on', 'any', 'that', 'there', 'we', \"isn't\", \"when's\", 'its', \"she'd\", 'my', 'so', 'ourselves', 'the', 'very', 'by', 'or', 'been', \"didn't\", 'had', 'is', 'further', 'themselves', \"he'll\", 'itself', 'few', 'your', \"i've\", 'whom', 'have', \"shan't\", 'being', 'yourself', 'with', 'else', 'r', 'then', \"i'd\", \"why's\", 'has', 'i', 'did', 'am', 'cannot', 'herself', \"that's\", 'com', \"shouldn't\", \"you'd\", 'too', 'only', 'and', \"she'll\", 'yours', 'more', 'some', 'he', 'as', 'no', 'all', 'him', 'their', 'if', 'it', \"he'd\", 'having', 'himself', 'most', 'about', 'not', 'me', 'when', 'out', 'than', 'before', 'www', 'does', 'should', \"couldn't\", \"what's\", 'doing', 'theirs', 'are', \"doesn't\", \"they've\", \"where's\", 'this', 'an', 'from', 'once', 'through', 'would', \"we'll\", 'both', 'a', \"they're\", \"there's\", 'how', \"he's\", \"weren't\", \"hasn't\", 'who', 'those', 'they', \"who's\", \"they'd\", \"it's\", 'was', 'get', \"aren't\", 'between', 'like', \"you've\", 'them', 'also', 'off', 'own', \"you'll\", 'at', \"she's\", 'k', 'ought', 'yourselves', \"wouldn't\", 'during', 'other', \"here's\", 'down', 'here', 'his', 'be', 'you', 'again', \"i'll\", 'were', \"how's\", 'into', 'same', 'nor', 'however', 'against', \"haven't\", 'but', \"wasn't\", \"we'd\", 'below', 'what', \"hadn't\", 'which', \"won't\", \"mustn't\", 'ours', 'since', 'these', 'to', 'under', 'of', \"let's\", 'our', \"you're\", 'her', 'over', 'for', \"they'll\", 'could', 'http', 'why', 'where', 'until', 'after', 'do', 'otherwise', 'myself', 'shall', 'up', \"we've\", 'each', \"i'm\", 'such', \"we're\", 'in', 'while', 'hers', 'just', 'above', \"don't\", 'can', 'ever', \"can't\"}\n"
     ]
    }
   ],
   "source": [
    "print(STOPWORDS)"
   ]
  },
  {
   "cell_type": "code",
   "execution_count": 32,
   "metadata": {},
   "outputs": [
    {
     "data": {
      "text/plain": [
       "190"
      ]
     },
     "execution_count": 32,
     "metadata": {},
     "output_type": "execute_result"
    }
   ],
   "source": [
    "len(STOPWORDS) \n",
    "\n"
   ]
  },
  {
   "cell_type": "markdown",
   "metadata": {},
   "source": [
    "Different than nltk. library but looks fine. Let's proceed"
   ]
  },
  {
   "cell_type": "code",
   "execution_count": 33,
   "metadata": {},
   "outputs": [
    {
     "data": {
      "text/plain": [
       "<wordcloud.wordcloud.WordCloud at 0x22ee6770438>"
      ]
     },
     "execution_count": 33,
     "metadata": {},
     "output_type": "execute_result"
    }
   ],
   "source": [
    "all_text_wc = WordCloud(\n",
    "    background_color='white',\n",
    "    max_words=200,\n",
    "    stopwords= set(STOPWORDS)\n",
    ")\n",
    "\n",
    "# generate the word cloud\n",
    "all_text_wc.generate(a)"
   ]
  },
  {
   "cell_type": "code",
   "execution_count": 34,
   "metadata": {
    "scrolled": false
   },
   "outputs": [
    {
     "data": {
      "image/png": "[encoded data removed]",
      "text/plain": [
       "<Figure size 432x288 with 1 Axes>"
      ]
     },
     "metadata": {
      "needs_background": "light"
     },
     "output_type": "display_data"
    }
   ],
   "source": [
    "plt.imshow(all_text_wc, interpolation='bilinear')\n",
    "plt.axis('off')\n",
    "plt.show()"
   ]
  },
  {
   "cell_type": "code",
   "execution_count": 35,
   "metadata": {},
   "outputs": [],
   "source": [
    "from PIL import Image"
   ]
  },
  {
   "cell_type": "code",
   "execution_count": 36,
   "metadata": {},
   "outputs": [],
   "source": [
    "mask1 = np.array(Image.open('Untitled.jpg'))"
   ]
  },
  {
   "cell_type": "code",
   "execution_count": 37,
   "metadata": {},
   "outputs": [
    {
     "data": {
      "text/plain": [
       "<wordcloud.wordcloud.WordCloud at 0x22ee6773390>"
      ]
     },
     "execution_count": 37,
     "metadata": {},
     "output_type": "execute_result"
    }
   ],
   "source": [
    "all_text_wc = WordCloud(\n",
    "    background_color='white',\n",
    "    mask=mask1,\n",
    "    max_words=200,\n",
    "    stopwords= set(STOPWORDS)\n",
    ")\n",
    "\n",
    "# generate the word cloud\n",
    "all_text_wc.generate(a)"
   ]
  },
  {
   "cell_type": "markdown",
   "metadata": {},
   "source": [
    "### In the shape of Mireo's logo "
   ]
  },
  {
   "cell_type": "code",
   "execution_count": 38,
   "metadata": {
    "scrolled": true
   },
   "outputs": [
    {
     "data": {
      "image/png": "[encoded data removed]",
      "text/plain": [
       "<Figure size 432x288 with 1 Axes>"
      ]
     },
     "metadata": {
      "needs_background": "light"
     },
     "output_type": "display_data"
    },
    {
     "data": {
      "text/plain": [
       "<Figure size 432x288 with 0 Axes>"
      ]
     },
     "metadata": {},
     "output_type": "display_data"
    }
   ],
   "source": [
    "plt.imshow(all_text_wc, interpolation='bilinear')\n",
    "plt.axis('off')\n",
    "plt.show()\n",
    "plt.savefig('Mireo_logo.jpg')"
   ]
  },
  {
   "cell_type": "markdown",
   "metadata": {},
   "source": [
    "# TextBlob Sentiment Analysis"
   ]
  },
  {
   "cell_type": "code",
   "execution_count": 39,
   "metadata": {},
   "outputs": [],
   "source": [
    "from textblob import TextBlob"
   ]
  },
  {
   "cell_type": "markdown",
   "metadata": {},
   "source": [
    "#### Polarity & subjectivity for whole text"
   ]
  },
  {
   "cell_type": "code",
   "execution_count": 40,
   "metadata": {
    "scrolled": true
   },
   "outputs": [
    {
     "data": {
      "text/plain": [
       "Sentiment(polarity=0.25797644092873206, subjectivity=0.5579515548291211)"
      ]
     },
     "execution_count": 40,
     "metadata": {},
     "output_type": "execute_result"
    }
   ],
   "source": [
    "TextBlob(a).sentiment"
   ]
  },
  {
   "cell_type": "markdown",
   "metadata": {},
   "source": [
    "## Adding Polarity & Subjectivity per review to df"
   ]
  },
  {
   "cell_type": "code",
   "execution_count": 41,
   "metadata": {},
   "outputs": [
    {
     "data": {
      "text/html": [
       "<div>\n",
       "<style scoped>\n",
       "    .dataframe tbody tr th:only-of-type {\n",
       "        vertical-align: middle;\n",
       "    }\n",
       "\n",
       "    .dataframe tbody tr th {\n",
       "        vertical-align: top;\n",
       "    }\n",
       "\n",
       "    .dataframe thead th {\n",
       "        text-align: right;\n",
       "    }\n",
       "</style>\n",
       "<table border=\"1\" class=\"dataframe\">\n",
       "  <thead>\n",
       "    <tr style=\"text-align: right;\">\n",
       "      <th></th>\n",
       "      <th>rbr</th>\n",
       "      <th>name</th>\n",
       "      <th>date</th>\n",
       "      <th>stars</th>\n",
       "      <th>review</th>\n",
       "      <th>lang</th>\n",
       "      <th>thumb</th>\n",
       "      <th>reply</th>\n",
       "      <th>polarity</th>\n",
       "      <th>subjectivity</th>\n",
       "    </tr>\n",
       "  </thead>\n",
       "  <tbody>\n",
       "    <tr>\n",
       "      <th>0</th>\n",
       "      <td>2</td>\n",
       "      <td>Rc Prod</td>\n",
       "      <td>2020-06-11</td>\n",
       "      <td>4</td>\n",
       "      <td>This app was hit or miss until I found I had ...</td>\n",
       "      <td>en</td>\n",
       "      <td>3</td>\n",
       "      <td>NaN</td>\n",
       "      <td>0.400000</td>\n",
       "      <td>0.633333</td>\n",
       "    </tr>\n",
       "    <tr>\n",
       "      <th>1</th>\n",
       "      <td>3</td>\n",
       "      <td>Steve Harding</td>\n",
       "      <td>2020-06-11</td>\n",
       "      <td>4</td>\n",
       "      <td>Would like to see a round route option, but b...</td>\n",
       "      <td>en</td>\n",
       "      <td>0</td>\n",
       "      <td>NaN</td>\n",
       "      <td>0.058333</td>\n",
       "      <td>0.425000</td>\n",
       "    </tr>\n",
       "    <tr>\n",
       "      <th>2</th>\n",
       "      <td>4</td>\n",
       "      <td>Carl Savillo Jr</td>\n",
       "      <td>2020-05-08</td>\n",
       "      <td>1</td>\n",
       "      <td>To use it, you need another $45 app so your v...</td>\n",
       "      <td>en</td>\n",
       "      <td>9</td>\n",
       "      <td>Dear Carl,\\r\\n\\r\\nthank you for leaving a revi...</td>\n",
       "      <td>-0.100000</td>\n",
       "      <td>0.100000</td>\n",
       "    </tr>\n",
       "    <tr>\n",
       "      <th>3</th>\n",
       "      <td>6</td>\n",
       "      <td>Rc Prod</td>\n",
       "      <td>2020-06-11</td>\n",
       "      <td>4</td>\n",
       "      <td>This app was hit or miss until I found I had ...</td>\n",
       "      <td>en</td>\n",
       "      <td>3</td>\n",
       "      <td>NaN</td>\n",
       "      <td>0.400000</td>\n",
       "      <td>0.633333</td>\n",
       "    </tr>\n",
       "    <tr>\n",
       "      <th>4</th>\n",
       "      <td>7</td>\n",
       "      <td>Steve Harding</td>\n",
       "      <td>2020-06-11</td>\n",
       "      <td>4</td>\n",
       "      <td>Would like to see a round route option, but b...</td>\n",
       "      <td>en</td>\n",
       "      <td>0</td>\n",
       "      <td>NaN</td>\n",
       "      <td>0.058333</td>\n",
       "      <td>0.425000</td>\n",
       "    </tr>\n",
       "    <tr>\n",
       "      <th>...</th>\n",
       "      <td>...</td>\n",
       "      <td>...</td>\n",
       "      <td>...</td>\n",
       "      <td>...</td>\n",
       "      <td>...</td>\n",
       "      <td>...</td>\n",
       "      <td>...</td>\n",
       "      <td>...</td>\n",
       "      <td>...</td>\n",
       "      <td>...</td>\n",
       "    </tr>\n",
       "    <tr>\n",
       "      <th>272</th>\n",
       "      <td>557</td>\n",
       "      <td>A Google user</td>\n",
       "      <td>2018-01-09</td>\n",
       "      <td>5</td>\n",
       "      <td>I Love It</td>\n",
       "      <td>NaN</td>\n",
       "      <td>0</td>\n",
       "      <td>NaN</td>\n",
       "      <td>0.500000</td>\n",
       "      <td>0.600000</td>\n",
       "    </tr>\n",
       "    <tr>\n",
       "      <th>273</th>\n",
       "      <td>561</td>\n",
       "      <td>Mohd Sahabat Nor Kekasih lV</td>\n",
       "      <td>2019-05-05</td>\n",
       "      <td>5</td>\n",
       "      <td>g8od</td>\n",
       "      <td>NaN</td>\n",
       "      <td>0</td>\n",
       "      <td>Dear Sir/Madam,\\r\\n\\r\\nthank you for the excel...</td>\n",
       "      <td>0.000000</td>\n",
       "      <td>0.000000</td>\n",
       "    </tr>\n",
       "    <tr>\n",
       "      <th>274</th>\n",
       "      <td>567</td>\n",
       "      <td>Charles Hunt</td>\n",
       "      <td>2018-02-28</td>\n",
       "      <td>5</td>\n",
       "      <td>Great app</td>\n",
       "      <td>NaN</td>\n",
       "      <td>0</td>\n",
       "      <td>NaN</td>\n",
       "      <td>0.800000</td>\n",
       "      <td>0.750000</td>\n",
       "    </tr>\n",
       "    <tr>\n",
       "      <th>275</th>\n",
       "      <td>574</td>\n",
       "      <td>Darrell Owens</td>\n",
       "      <td>2017-06-01</td>\n",
       "      <td>5</td>\n",
       "      <td>Excellent app</td>\n",
       "      <td>NaN</td>\n",
       "      <td>0</td>\n",
       "      <td>NaN</td>\n",
       "      <td>1.000000</td>\n",
       "      <td>1.000000</td>\n",
       "    </tr>\n",
       "    <tr>\n",
       "      <th>276</th>\n",
       "      <td>577</td>\n",
       "      <td>Hossam Awaad</td>\n",
       "      <td>2017-03-01</td>\n",
       "      <td>5</td>\n",
       "      <td>Very good</td>\n",
       "      <td>NaN</td>\n",
       "      <td>0</td>\n",
       "      <td>NaN</td>\n",
       "      <td>0.910000</td>\n",
       "      <td>0.780000</td>\n",
       "    </tr>\n",
       "  </tbody>\n",
       "</table>\n",
       "<p>277 rows × 10 columns</p>\n",
       "</div>"
      ],
      "text/plain": [
       "     rbr                         name       date  stars  \\\n",
       "0      2                      Rc Prod 2020-06-11      4   \n",
       "1      3                Steve Harding 2020-06-11      4   \n",
       "2      4              Carl Savillo Jr 2020-05-08      1   \n",
       "3      6                      Rc Prod 2020-06-11      4   \n",
       "4      7                Steve Harding 2020-06-11      4   \n",
       "..   ...                          ...        ...    ...   \n",
       "272  557                A Google user 2018-01-09      5   \n",
       "273  561  Mohd Sahabat Nor Kekasih lV 2019-05-05      5   \n",
       "274  567                 Charles Hunt 2018-02-28      5   \n",
       "275  574                Darrell Owens 2017-06-01      5   \n",
       "276  577                 Hossam Awaad 2017-03-01      5   \n",
       "\n",
       "                                                review lang  thumb  \\\n",
       "0     This app was hit or miss until I found I had ...   en      3   \n",
       "1     Would like to see a round route option, but b...   en      0   \n",
       "2     To use it, you need another $45 app so your v...   en      9   \n",
       "3     This app was hit or miss until I found I had ...   en      3   \n",
       "4     Would like to see a round route option, but b...   en      0   \n",
       "..                                                 ...  ...    ...   \n",
       "272                                          I Love It  NaN      0   \n",
       "273                                               g8od  NaN      0   \n",
       "274                                          Great app  NaN      0   \n",
       "275                                      Excellent app  NaN      0   \n",
       "276                                          Very good  NaN      0   \n",
       "\n",
       "                                                 reply  polarity  subjectivity  \n",
       "0                                                  NaN  0.400000      0.633333  \n",
       "1                                                  NaN  0.058333      0.425000  \n",
       "2    Dear Carl,\\r\\n\\r\\nthank you for leaving a revi... -0.100000      0.100000  \n",
       "3                                                  NaN  0.400000      0.633333  \n",
       "4                                                  NaN  0.058333      0.425000  \n",
       "..                                                 ...       ...           ...  \n",
       "272                                                NaN  0.500000      0.600000  \n",
       "273  Dear Sir/Madam,\\r\\n\\r\\nthank you for the excel...  0.000000      0.000000  \n",
       "274                                                NaN  0.800000      0.750000  \n",
       "275                                                NaN  1.000000      1.000000  \n",
       "276                                                NaN  0.910000      0.780000  \n",
       "\n",
       "[277 rows x 10 columns]"
      ]
     },
     "execution_count": 41,
     "metadata": {},
     "output_type": "execute_result"
    }
   ],
   "source": [
    "from textblob import TextBlob\n",
    "\n",
    "pol = lambda x: TextBlob(x).sentiment.polarity\n",
    "sub = lambda x: TextBlob(x).sentiment.subjectivity\n",
    "\n",
    "df['polarity'] = df['review'].apply(pol)\n",
    "df['subjectivity'] = df['review'].apply(sub)\n",
    "df"
   ]
  },
  {
   "cell_type": "markdown",
   "metadata": {},
   "source": [
    "## Adding month and year columns "
   ]
  },
  {
   "cell_type": "code",
   "execution_count": 42,
   "metadata": {
    "scrolled": false
   },
   "outputs": [
    {
     "data": {
      "text/html": [
       "<div>\n",
       "<style scoped>\n",
       "    .dataframe tbody tr th:only-of-type {\n",
       "        vertical-align: middle;\n",
       "    }\n",
       "\n",
       "    .dataframe tbody tr th {\n",
       "        vertical-align: top;\n",
       "    }\n",
       "\n",
       "    .dataframe thead th {\n",
       "        text-align: right;\n",
       "    }\n",
       "</style>\n",
       "<table border=\"1\" class=\"dataframe\">\n",
       "  <thead>\n",
       "    <tr style=\"text-align: right;\">\n",
       "      <th></th>\n",
       "      <th>rbr</th>\n",
       "      <th>name</th>\n",
       "      <th>date</th>\n",
       "      <th>stars</th>\n",
       "      <th>review</th>\n",
       "      <th>lang</th>\n",
       "      <th>thumb</th>\n",
       "      <th>reply</th>\n",
       "      <th>polarity</th>\n",
       "      <th>subjectivity</th>\n",
       "      <th>year</th>\n",
       "      <th>month</th>\n",
       "      <th>year_month</th>\n",
       "    </tr>\n",
       "  </thead>\n",
       "  <tbody>\n",
       "    <tr>\n",
       "      <th>0</th>\n",
       "      <td>2</td>\n",
       "      <td>Rc Prod</td>\n",
       "      <td>2020-06-11</td>\n",
       "      <td>4</td>\n",
       "      <td>This app was hit or miss until I found I had ...</td>\n",
       "      <td>en</td>\n",
       "      <td>3</td>\n",
       "      <td>NaN</td>\n",
       "      <td>0.400000</td>\n",
       "      <td>0.633333</td>\n",
       "      <td>2020</td>\n",
       "      <td>6</td>\n",
       "      <td>2020-06</td>\n",
       "    </tr>\n",
       "    <tr>\n",
       "      <th>1</th>\n",
       "      <td>3</td>\n",
       "      <td>Steve Harding</td>\n",
       "      <td>2020-06-11</td>\n",
       "      <td>4</td>\n",
       "      <td>Would like to see a round route option, but b...</td>\n",
       "      <td>en</td>\n",
       "      <td>0</td>\n",
       "      <td>NaN</td>\n",
       "      <td>0.058333</td>\n",
       "      <td>0.425000</td>\n",
       "      <td>2020</td>\n",
       "      <td>6</td>\n",
       "      <td>2020-06</td>\n",
       "    </tr>\n",
       "    <tr>\n",
       "      <th>2</th>\n",
       "      <td>4</td>\n",
       "      <td>Carl Savillo Jr</td>\n",
       "      <td>2020-05-08</td>\n",
       "      <td>1</td>\n",
       "      <td>To use it, you need another $45 app so your v...</td>\n",
       "      <td>en</td>\n",
       "      <td>9</td>\n",
       "      <td>Dear Carl,\\r\\n\\r\\nthank you for leaving a revi...</td>\n",
       "      <td>-0.100000</td>\n",
       "      <td>0.100000</td>\n",
       "      <td>2020</td>\n",
       "      <td>5</td>\n",
       "      <td>2020-05</td>\n",
       "    </tr>\n",
       "    <tr>\n",
       "      <th>3</th>\n",
       "      <td>6</td>\n",
       "      <td>Rc Prod</td>\n",
       "      <td>2020-06-11</td>\n",
       "      <td>4</td>\n",
       "      <td>This app was hit or miss until I found I had ...</td>\n",
       "      <td>en</td>\n",
       "      <td>3</td>\n",
       "      <td>NaN</td>\n",
       "      <td>0.400000</td>\n",
       "      <td>0.633333</td>\n",
       "      <td>2020</td>\n",
       "      <td>6</td>\n",
       "      <td>2020-06</td>\n",
       "    </tr>\n",
       "    <tr>\n",
       "      <th>4</th>\n",
       "      <td>7</td>\n",
       "      <td>Steve Harding</td>\n",
       "      <td>2020-06-11</td>\n",
       "      <td>4</td>\n",
       "      <td>Would like to see a round route option, but b...</td>\n",
       "      <td>en</td>\n",
       "      <td>0</td>\n",
       "      <td>NaN</td>\n",
       "      <td>0.058333</td>\n",
       "      <td>0.425000</td>\n",
       "      <td>2020</td>\n",
       "      <td>6</td>\n",
       "      <td>2020-06</td>\n",
       "    </tr>\n",
       "  </tbody>\n",
       "</table>\n",
       "</div>"
      ],
      "text/plain": [
       "   rbr             name       date  stars  \\\n",
       "0    2          Rc Prod 2020-06-11      4   \n",
       "1    3    Steve Harding 2020-06-11      4   \n",
       "2    4  Carl Savillo Jr 2020-05-08      1   \n",
       "3    6          Rc Prod 2020-06-11      4   \n",
       "4    7    Steve Harding 2020-06-11      4   \n",
       "\n",
       "                                              review lang  thumb  \\\n",
       "0   This app was hit or miss until I found I had ...   en      3   \n",
       "1   Would like to see a round route option, but b...   en      0   \n",
       "2   To use it, you need another $45 app so your v...   en      9   \n",
       "3   This app was hit or miss until I found I had ...   en      3   \n",
       "4   Would like to see a round route option, but b...   en      0   \n",
       "\n",
       "                                               reply  polarity  subjectivity  \\\n",
       "0                                                NaN  0.400000      0.633333   \n",
       "1                                                NaN  0.058333      0.425000   \n",
       "2  Dear Carl,\\r\\n\\r\\nthank you for leaving a revi... -0.100000      0.100000   \n",
       "3                                                NaN  0.400000      0.633333   \n",
       "4                                                NaN  0.058333      0.425000   \n",
       "\n",
       "   year  month year_month  \n",
       "0  2020      6    2020-06  \n",
       "1  2020      6    2020-06  \n",
       "2  2020      5    2020-05  \n",
       "3  2020      6    2020-06  \n",
       "4  2020      6    2020-06  "
      ]
     },
     "execution_count": 42,
     "metadata": {},
     "output_type": "execute_result"
    }
   ],
   "source": [
    "df['year'] = pd.DatetimeIndex(df['date']).year\n",
    "df['month'] = pd.DatetimeIndex(df['date']).month\n",
    "df['year_month'] = pd.to_datetime(df['date']).dt.to_period('M')\n",
    "\n",
    "df.head()"
   ]
  },
  {
   "cell_type": "markdown",
   "metadata": {},
   "source": [
    "## Polarity - 3 Graphs "
   ]
  },
  {
   "cell_type": "code",
   "execution_count": 43,
   "metadata": {
    "scrolled": true
   },
   "outputs": [
    {
     "data": {
      "text/plain": [
       "<matplotlib.collections.PathCollection at 0x22ee68f8da0>"
      ]
     },
     "execution_count": 43,
     "metadata": {},
     "output_type": "execute_result"
    },
    {
     "data": {
      "image/png": "[encoded data removed]",
      "text/plain": [
       "<Figure size 432x288 with 1 Axes>"
      ]
     },
     "metadata": {
      "needs_background": "light"
     },
     "output_type": "display_data"
    }
   ],
   "source": [
    "plt.scatter(df['year'], df['polarity'])"
   ]
  },
  {
   "cell_type": "code",
   "execution_count": 44,
   "metadata": {
    "scrolled": true
   },
   "outputs": [
    {
     "data": {
      "text/plain": [
       "<matplotlib.collections.PathCollection at 0x22ee69019b0>"
      ]
     },
     "execution_count": 44,
     "metadata": {},
     "output_type": "execute_result"
    },
    {
     "data": {
      "image/png": "[encoded data removed]",
      "text/plain": [
       "<Figure size 432x288 with 1 Axes>"
      ]
     },
     "metadata": {
      "needs_background": "light"
     },
     "output_type": "display_data"
    }
   ],
   "source": [
    "plt.scatter(df['month'], df['polarity'])"
   ]
  },
  {
   "cell_type": "code",
   "execution_count": 45,
   "metadata": {
    "scrolled": true
   },
   "outputs": [
    {
     "data": {
      "text/plain": [
       "<matplotlib.collections.PathCollection at 0x22ee68f3198>"
      ]
     },
     "execution_count": 45,
     "metadata": {},
     "output_type": "execute_result"
    },
    {
     "data": {
      "image/png": "[encoded data removed]",
      "text/plain": [
       "<Figure size 432x288 with 1 Axes>"
      ]
     },
     "metadata": {
      "needs_background": "light"
     },
     "output_type": "display_data"
    }
   ],
   "source": [
    "plt.scatter(df['date'], df['polarity'])"
   ]
  },
  {
   "cell_type": "markdown",
   "metadata": {},
   "source": [
    "## Subjectivity - 3 Graphs "
   ]
  },
  {
   "cell_type": "code",
   "execution_count": 46,
   "metadata": {
    "scrolled": true
   },
   "outputs": [
    {
     "data": {
      "text/plain": [
       "<matplotlib.collections.PathCollection at 0x22ee6789b70>"
      ]
     },
     "execution_count": 46,
     "metadata": {},
     "output_type": "execute_result"
    },
    {
     "data": {
      "image/png": "[encoded data removed]",
      "text/plain": [
       "<Figure size 432x288 with 1 Axes>"
      ]
     },
     "metadata": {
      "needs_background": "light"
     },
     "output_type": "display_data"
    }
   ],
   "source": [
    "plt.scatter(df['year'], df['subjectivity'])"
   ]
  },
  {
   "cell_type": "code",
   "execution_count": 47,
   "metadata": {
    "scrolled": true
   },
   "outputs": [
    {
     "data": {
      "text/plain": [
       "<matplotlib.collections.PathCollection at 0x22ee64b3748>"
      ]
     },
     "execution_count": 47,
     "metadata": {},
     "output_type": "execute_result"
    },
    {
     "data": {
      "image/png": "[encoded data removed]",
      "text/plain": [
       "<Figure size 432x288 with 1 Axes>"
      ]
     },
     "metadata": {
      "needs_background": "light"
     },
     "output_type": "display_data"
    }
   ],
   "source": [
    "plt.scatter(df['month'], df['subjectivity'])"
   ]
  },
  {
   "cell_type": "code",
   "execution_count": 48,
   "metadata": {
    "scrolled": false
   },
   "outputs": [
    {
     "data": {
      "text/plain": [
       "<matplotlib.collections.PathCollection at 0x22ee64aa2b0>"
      ]
     },
     "execution_count": 48,
     "metadata": {},
     "output_type": "execute_result"
    },
    {
     "data": {
      "image/png": "[encoded data removed]",
      "text/plain": [
       "<Figure size 432x288 with 1 Axes>"
      ]
     },
     "metadata": {
      "needs_background": "light"
     },
     "output_type": "display_data"
    }
   ],
   "source": [
    "plt.scatter(df['date'], df['subjectivity'])\n"
   ]
  },
  {
   "cell_type": "markdown",
   "metadata": {},
   "source": [
    "# Order by date "
   ]
  },
  {
   "cell_type": "code",
   "execution_count": 49,
   "metadata": {},
   "outputs": [
    {
     "data": {
      "text/plain": [
       "<pandas.core.groupby.generic.DataFrameGroupBy object at 0x0000022EE7C36B00>"
      ]
     },
     "execution_count": 49,
     "metadata": {},
     "output_type": "execute_result"
    }
   ],
   "source": [
    "df.groupby(df['date'].map(lambda x: x.year))\n"
   ]
  },
  {
   "cell_type": "code",
   "execution_count": 50,
   "metadata": {
    "scrolled": true
   },
   "outputs": [
    {
     "data": {
      "text/html": [
       "<div>\n",
       "<style scoped>\n",
       "    .dataframe tbody tr th:only-of-type {\n",
       "        vertical-align: middle;\n",
       "    }\n",
       "\n",
       "    .dataframe tbody tr th {\n",
       "        vertical-align: top;\n",
       "    }\n",
       "\n",
       "    .dataframe thead th {\n",
       "        text-align: right;\n",
       "    }\n",
       "</style>\n",
       "<table border=\"1\" class=\"dataframe\">\n",
       "  <thead>\n",
       "    <tr style=\"text-align: right;\">\n",
       "      <th></th>\n",
       "      <th>rbr</th>\n",
       "      <th>name</th>\n",
       "      <th>date</th>\n",
       "      <th>stars</th>\n",
       "      <th>review</th>\n",
       "      <th>lang</th>\n",
       "      <th>thumb</th>\n",
       "      <th>reply</th>\n",
       "      <th>polarity</th>\n",
       "      <th>subjectivity</th>\n",
       "      <th>year</th>\n",
       "      <th>month</th>\n",
       "      <th>year_month</th>\n",
       "    </tr>\n",
       "  </thead>\n",
       "  <tbody>\n",
       "    <tr>\n",
       "      <th>0</th>\n",
       "      <td>2</td>\n",
       "      <td>Rc Prod</td>\n",
       "      <td>2020-06-11</td>\n",
       "      <td>4</td>\n",
       "      <td>This app was hit or miss until I found I had ...</td>\n",
       "      <td>en</td>\n",
       "      <td>3</td>\n",
       "      <td>NaN</td>\n",
       "      <td>0.400000</td>\n",
       "      <td>0.633333</td>\n",
       "      <td>2020</td>\n",
       "      <td>6</td>\n",
       "      <td>2020-06</td>\n",
       "    </tr>\n",
       "    <tr>\n",
       "      <th>1</th>\n",
       "      <td>3</td>\n",
       "      <td>Steve Harding</td>\n",
       "      <td>2020-06-11</td>\n",
       "      <td>4</td>\n",
       "      <td>Would like to see a round route option, but b...</td>\n",
       "      <td>en</td>\n",
       "      <td>0</td>\n",
       "      <td>NaN</td>\n",
       "      <td>0.058333</td>\n",
       "      <td>0.425000</td>\n",
       "      <td>2020</td>\n",
       "      <td>6</td>\n",
       "      <td>2020-06</td>\n",
       "    </tr>\n",
       "    <tr>\n",
       "      <th>2</th>\n",
       "      <td>4</td>\n",
       "      <td>Carl Savillo Jr</td>\n",
       "      <td>2020-05-08</td>\n",
       "      <td>1</td>\n",
       "      <td>To use it, you need another $45 app so your v...</td>\n",
       "      <td>en</td>\n",
       "      <td>9</td>\n",
       "      <td>Dear Carl,\\r\\n\\r\\nthank you for leaving a revi...</td>\n",
       "      <td>-0.100000</td>\n",
       "      <td>0.100000</td>\n",
       "      <td>2020</td>\n",
       "      <td>5</td>\n",
       "      <td>2020-05</td>\n",
       "    </tr>\n",
       "    <tr>\n",
       "      <th>3</th>\n",
       "      <td>6</td>\n",
       "      <td>Rc Prod</td>\n",
       "      <td>2020-06-11</td>\n",
       "      <td>4</td>\n",
       "      <td>This app was hit or miss until I found I had ...</td>\n",
       "      <td>en</td>\n",
       "      <td>3</td>\n",
       "      <td>NaN</td>\n",
       "      <td>0.400000</td>\n",
       "      <td>0.633333</td>\n",
       "      <td>2020</td>\n",
       "      <td>6</td>\n",
       "      <td>2020-06</td>\n",
       "    </tr>\n",
       "    <tr>\n",
       "      <th>4</th>\n",
       "      <td>7</td>\n",
       "      <td>Steve Harding</td>\n",
       "      <td>2020-06-11</td>\n",
       "      <td>4</td>\n",
       "      <td>Would like to see a round route option, but b...</td>\n",
       "      <td>en</td>\n",
       "      <td>0</td>\n",
       "      <td>NaN</td>\n",
       "      <td>0.058333</td>\n",
       "      <td>0.425000</td>\n",
       "      <td>2020</td>\n",
       "      <td>6</td>\n",
       "      <td>2020-06</td>\n",
       "    </tr>\n",
       "    <tr>\n",
       "      <th>...</th>\n",
       "      <td>...</td>\n",
       "      <td>...</td>\n",
       "      <td>...</td>\n",
       "      <td>...</td>\n",
       "      <td>...</td>\n",
       "      <td>...</td>\n",
       "      <td>...</td>\n",
       "      <td>...</td>\n",
       "      <td>...</td>\n",
       "      <td>...</td>\n",
       "      <td>...</td>\n",
       "      <td>...</td>\n",
       "      <td>...</td>\n",
       "    </tr>\n",
       "    <tr>\n",
       "      <th>272</th>\n",
       "      <td>557</td>\n",
       "      <td>A Google user</td>\n",
       "      <td>2018-01-09</td>\n",
       "      <td>5</td>\n",
       "      <td>I Love It</td>\n",
       "      <td>NaN</td>\n",
       "      <td>0</td>\n",
       "      <td>NaN</td>\n",
       "      <td>0.500000</td>\n",
       "      <td>0.600000</td>\n",
       "      <td>2018</td>\n",
       "      <td>1</td>\n",
       "      <td>2018-01</td>\n",
       "    </tr>\n",
       "    <tr>\n",
       "      <th>273</th>\n",
       "      <td>561</td>\n",
       "      <td>Mohd Sahabat Nor Kekasih lV</td>\n",
       "      <td>2019-05-05</td>\n",
       "      <td>5</td>\n",
       "      <td>g8od</td>\n",
       "      <td>NaN</td>\n",
       "      <td>0</td>\n",
       "      <td>Dear Sir/Madam,\\r\\n\\r\\nthank you for the excel...</td>\n",
       "      <td>0.000000</td>\n",
       "      <td>0.000000</td>\n",
       "      <td>2019</td>\n",
       "      <td>5</td>\n",
       "      <td>2019-05</td>\n",
       "    </tr>\n",
       "    <tr>\n",
       "      <th>274</th>\n",
       "      <td>567</td>\n",
       "      <td>Charles Hunt</td>\n",
       "      <td>2018-02-28</td>\n",
       "      <td>5</td>\n",
       "      <td>Great app</td>\n",
       "      <td>NaN</td>\n",
       "      <td>0</td>\n",
       "      <td>NaN</td>\n",
       "      <td>0.800000</td>\n",
       "      <td>0.750000</td>\n",
       "      <td>2018</td>\n",
       "      <td>2</td>\n",
       "      <td>2018-02</td>\n",
       "    </tr>\n",
       "    <tr>\n",
       "      <th>275</th>\n",
       "      <td>574</td>\n",
       "      <td>Darrell Owens</td>\n",
       "      <td>2017-06-01</td>\n",
       "      <td>5</td>\n",
       "      <td>Excellent app</td>\n",
       "      <td>NaN</td>\n",
       "      <td>0</td>\n",
       "      <td>NaN</td>\n",
       "      <td>1.000000</td>\n",
       "      <td>1.000000</td>\n",
       "      <td>2017</td>\n",
       "      <td>6</td>\n",
       "      <td>2017-06</td>\n",
       "    </tr>\n",
       "    <tr>\n",
       "      <th>276</th>\n",
       "      <td>577</td>\n",
       "      <td>Hossam Awaad</td>\n",
       "      <td>2017-03-01</td>\n",
       "      <td>5</td>\n",
       "      <td>Very good</td>\n",
       "      <td>NaN</td>\n",
       "      <td>0</td>\n",
       "      <td>NaN</td>\n",
       "      <td>0.910000</td>\n",
       "      <td>0.780000</td>\n",
       "      <td>2017</td>\n",
       "      <td>3</td>\n",
       "      <td>2017-03</td>\n",
       "    </tr>\n",
       "  </tbody>\n",
       "</table>\n",
       "<p>277 rows × 13 columns</p>\n",
       "</div>"
      ],
      "text/plain": [
       "     rbr                         name       date  stars  \\\n",
       "0      2                      Rc Prod 2020-06-11      4   \n",
       "1      3                Steve Harding 2020-06-11      4   \n",
       "2      4              Carl Savillo Jr 2020-05-08      1   \n",
       "3      6                      Rc Prod 2020-06-11      4   \n",
       "4      7                Steve Harding 2020-06-11      4   \n",
       "..   ...                          ...        ...    ...   \n",
       "272  557                A Google user 2018-01-09      5   \n",
       "273  561  Mohd Sahabat Nor Kekasih lV 2019-05-05      5   \n",
       "274  567                 Charles Hunt 2018-02-28      5   \n",
       "275  574                Darrell Owens 2017-06-01      5   \n",
       "276  577                 Hossam Awaad 2017-03-01      5   \n",
       "\n",
       "                                                review lang  thumb  \\\n",
       "0     This app was hit or miss until I found I had ...   en      3   \n",
       "1     Would like to see a round route option, but b...   en      0   \n",
       "2     To use it, you need another $45 app so your v...   en      9   \n",
       "3     This app was hit or miss until I found I had ...   en      3   \n",
       "4     Would like to see a round route option, but b...   en      0   \n",
       "..                                                 ...  ...    ...   \n",
       "272                                          I Love It  NaN      0   \n",
       "273                                               g8od  NaN      0   \n",
       "274                                          Great app  NaN      0   \n",
       "275                                      Excellent app  NaN      0   \n",
       "276                                          Very good  NaN      0   \n",
       "\n",
       "                                                 reply  polarity  \\\n",
       "0                                                  NaN  0.400000   \n",
       "1                                                  NaN  0.058333   \n",
       "2    Dear Carl,\\r\\n\\r\\nthank you for leaving a revi... -0.100000   \n",
       "3                                                  NaN  0.400000   \n",
       "4                                                  NaN  0.058333   \n",
       "..                                                 ...       ...   \n",
       "272                                                NaN  0.500000   \n",
       "273  Dear Sir/Madam,\\r\\n\\r\\nthank you for the excel...  0.000000   \n",
       "274                                                NaN  0.800000   \n",
       "275                                                NaN  1.000000   \n",
       "276                                                NaN  0.910000   \n",
       "\n",
       "     subjectivity  year  month year_month  \n",
       "0        0.633333  2020      6    2020-06  \n",
       "1        0.425000  2020      6    2020-06  \n",
       "2        0.100000  2020      5    2020-05  \n",
       "3        0.633333  2020      6    2020-06  \n",
       "4        0.425000  2020      6    2020-06  \n",
       "..            ...   ...    ...        ...  \n",
       "272      0.600000  2018      1    2018-01  \n",
       "273      0.000000  2019      5    2019-05  \n",
       "274      0.750000  2018      2    2018-02  \n",
       "275      1.000000  2017      6    2017-06  \n",
       "276      0.780000  2017      3    2017-03  \n",
       "\n",
       "[277 rows x 13 columns]"
      ]
     },
     "execution_count": 50,
     "metadata": {},
     "output_type": "execute_result"
    }
   ],
   "source": [
    "df"
   ]
  },
  {
   "cell_type": "markdown",
   "metadata": {},
   "source": [
    "## Nicer way to make group by some column in df "
   ]
  },
  {
   "cell_type": "code",
   "execution_count": 51,
   "metadata": {},
   "outputs": [],
   "source": [
    "period = '1Y'"
   ]
  },
  {
   "cell_type": "code",
   "execution_count": 52,
   "metadata": {
    "scrolled": true
   },
   "outputs": [
    {
     "data": {
      "text/html": [
       "<div>\n",
       "<style scoped>\n",
       "    .dataframe tbody tr th:only-of-type {\n",
       "        vertical-align: middle;\n",
       "    }\n",
       "\n",
       "    .dataframe tbody tr th {\n",
       "        vertical-align: top;\n",
       "    }\n",
       "\n",
       "    .dataframe thead th {\n",
       "        text-align: right;\n",
       "    }\n",
       "</style>\n",
       "<table border=\"1\" class=\"dataframe\">\n",
       "  <thead>\n",
       "    <tr style=\"text-align: right;\">\n",
       "      <th></th>\n",
       "      <th>count</th>\n",
       "      <th>mean</th>\n",
       "      <th>std</th>\n",
       "      <th>min</th>\n",
       "      <th>25%</th>\n",
       "      <th>50%</th>\n",
       "      <th>75%</th>\n",
       "      <th>max</th>\n",
       "    </tr>\n",
       "    <tr>\n",
       "      <th>date</th>\n",
       "      <th></th>\n",
       "      <th></th>\n",
       "      <th></th>\n",
       "      <th></th>\n",
       "      <th></th>\n",
       "      <th></th>\n",
       "      <th></th>\n",
       "      <th></th>\n",
       "    </tr>\n",
       "  </thead>\n",
       "  <tbody>\n",
       "    <tr>\n",
       "      <th>2016-12-31</th>\n",
       "      <td>39.0</td>\n",
       "      <td>3.384615</td>\n",
       "      <td>1.679840</td>\n",
       "      <td>1.0</td>\n",
       "      <td>1.0</td>\n",
       "      <td>4.0</td>\n",
       "      <td>5.0</td>\n",
       "      <td>5.0</td>\n",
       "    </tr>\n",
       "    <tr>\n",
       "      <th>2017-12-31</th>\n",
       "      <td>52.0</td>\n",
       "      <td>3.653846</td>\n",
       "      <td>1.570370</td>\n",
       "      <td>1.0</td>\n",
       "      <td>2.0</td>\n",
       "      <td>4.0</td>\n",
       "      <td>5.0</td>\n",
       "      <td>5.0</td>\n",
       "    </tr>\n",
       "    <tr>\n",
       "      <th>2018-12-31</th>\n",
       "      <td>69.0</td>\n",
       "      <td>3.275362</td>\n",
       "      <td>1.713991</td>\n",
       "      <td>1.0</td>\n",
       "      <td>1.0</td>\n",
       "      <td>4.0</td>\n",
       "      <td>5.0</td>\n",
       "      <td>5.0</td>\n",
       "    </tr>\n",
       "    <tr>\n",
       "      <th>2019-12-31</th>\n",
       "      <td>84.0</td>\n",
       "      <td>3.880952</td>\n",
       "      <td>1.539870</td>\n",
       "      <td>1.0</td>\n",
       "      <td>3.0</td>\n",
       "      <td>5.0</td>\n",
       "      <td>5.0</td>\n",
       "      <td>5.0</td>\n",
       "    </tr>\n",
       "    <tr>\n",
       "      <th>2020-12-31</th>\n",
       "      <td>33.0</td>\n",
       "      <td>3.151515</td>\n",
       "      <td>1.734236</td>\n",
       "      <td>1.0</td>\n",
       "      <td>1.0</td>\n",
       "      <td>4.0</td>\n",
       "      <td>5.0</td>\n",
       "      <td>5.0</td>\n",
       "    </tr>\n",
       "  </tbody>\n",
       "</table>\n",
       "</div>"
      ],
      "text/plain": [
       "            count      mean       std  min  25%  50%  75%  max\n",
       "date                                                          \n",
       "2016-12-31   39.0  3.384615  1.679840  1.0  1.0  4.0  5.0  5.0\n",
       "2017-12-31   52.0  3.653846  1.570370  1.0  2.0  4.0  5.0  5.0\n",
       "2018-12-31   69.0  3.275362  1.713991  1.0  1.0  4.0  5.0  5.0\n",
       "2019-12-31   84.0  3.880952  1.539870  1.0  3.0  5.0  5.0  5.0\n",
       "2020-12-31   33.0  3.151515  1.734236  1.0  1.0  4.0  5.0  5.0"
      ]
     },
     "execution_count": 52,
     "metadata": {},
     "output_type": "execute_result"
    }
   ],
   "source": [
    "df.groupby(pd.Grouper(key='date', freq=period))['stars'].describe()"
   ]
  },
  {
   "cell_type": "markdown",
   "metadata": {},
   "source": [
    "## grouped by year_month"
   ]
  },
  {
   "cell_type": "code",
   "execution_count": 53,
   "metadata": {
    "scrolled": true
   },
   "outputs": [],
   "source": [
    "df_gbym=df.groupby('year_month').mean() # df grouped by year month"
   ]
  },
  {
   "cell_type": "code",
   "execution_count": 54,
   "metadata": {
    "scrolled": true
   },
   "outputs": [
    {
     "data": {
      "text/html": [
       "<div>\n",
       "<style scoped>\n",
       "    .dataframe tbody tr th:only-of-type {\n",
       "        vertical-align: middle;\n",
       "    }\n",
       "\n",
       "    .dataframe tbody tr th {\n",
       "        vertical-align: top;\n",
       "    }\n",
       "\n",
       "    .dataframe thead th {\n",
       "        text-align: right;\n",
       "    }\n",
       "</style>\n",
       "<table border=\"1\" class=\"dataframe\">\n",
       "  <thead>\n",
       "    <tr style=\"text-align: right;\">\n",
       "      <th></th>\n",
       "      <th>rbr</th>\n",
       "      <th>stars</th>\n",
       "      <th>thumb</th>\n",
       "      <th>polarity</th>\n",
       "      <th>subjectivity</th>\n",
       "      <th>year</th>\n",
       "      <th>month</th>\n",
       "    </tr>\n",
       "    <tr>\n",
       "      <th>year_month</th>\n",
       "      <th></th>\n",
       "      <th></th>\n",
       "      <th></th>\n",
       "      <th></th>\n",
       "      <th></th>\n",
       "      <th></th>\n",
       "      <th></th>\n",
       "    </tr>\n",
       "  </thead>\n",
       "  <tbody>\n",
       "    <tr>\n",
       "      <th>2016-06</th>\n",
       "      <td>338.250000</td>\n",
       "      <td>4.250000</td>\n",
       "      <td>0.250000</td>\n",
       "      <td>0.475000</td>\n",
       "      <td>0.412500</td>\n",
       "      <td>2016.0</td>\n",
       "      <td>6.0</td>\n",
       "    </tr>\n",
       "    <tr>\n",
       "      <th>2016-07</th>\n",
       "      <td>353.166667</td>\n",
       "      <td>3.000000</td>\n",
       "      <td>0.666667</td>\n",
       "      <td>0.383889</td>\n",
       "      <td>0.756111</td>\n",
       "      <td>2016.0</td>\n",
       "      <td>7.0</td>\n",
       "    </tr>\n",
       "    <tr>\n",
       "      <th>2016-08</th>\n",
       "      <td>303.166667</td>\n",
       "      <td>2.833333</td>\n",
       "      <td>1.000000</td>\n",
       "      <td>0.073889</td>\n",
       "      <td>0.298056</td>\n",
       "      <td>2016.0</td>\n",
       "      <td>8.0</td>\n",
       "    </tr>\n",
       "    <tr>\n",
       "      <th>2016-09</th>\n",
       "      <td>323.000000</td>\n",
       "      <td>4.000000</td>\n",
       "      <td>0.500000</td>\n",
       "      <td>0.416667</td>\n",
       "      <td>0.637500</td>\n",
       "      <td>2016.0</td>\n",
       "      <td>9.0</td>\n",
       "    </tr>\n",
       "    <tr>\n",
       "      <th>2016-10</th>\n",
       "      <td>311.000000</td>\n",
       "      <td>3.200000</td>\n",
       "      <td>3.000000</td>\n",
       "      <td>0.075455</td>\n",
       "      <td>0.216182</td>\n",
       "      <td>2016.0</td>\n",
       "      <td>10.0</td>\n",
       "    </tr>\n",
       "    <tr>\n",
       "      <th>2016-11</th>\n",
       "      <td>292.666667</td>\n",
       "      <td>3.666667</td>\n",
       "      <td>1.166667</td>\n",
       "      <td>0.381771</td>\n",
       "      <td>0.508333</td>\n",
       "      <td>2016.0</td>\n",
       "      <td>11.0</td>\n",
       "    </tr>\n",
       "    <tr>\n",
       "      <th>2016-12</th>\n",
       "      <td>313.750000</td>\n",
       "      <td>3.250000</td>\n",
       "      <td>1.250000</td>\n",
       "      <td>0.267083</td>\n",
       "      <td>0.596260</td>\n",
       "      <td>2016.0</td>\n",
       "      <td>12.0</td>\n",
       "    </tr>\n",
       "    <tr>\n",
       "      <th>2017-01</th>\n",
       "      <td>234.727273</td>\n",
       "      <td>4.363636</td>\n",
       "      <td>0.727273</td>\n",
       "      <td>0.503271</td>\n",
       "      <td>0.664542</td>\n",
       "      <td>2017.0</td>\n",
       "      <td>1.0</td>\n",
       "    </tr>\n",
       "    <tr>\n",
       "      <th>2017-02</th>\n",
       "      <td>227.000000</td>\n",
       "      <td>5.000000</td>\n",
       "      <td>4.000000</td>\n",
       "      <td>0.516667</td>\n",
       "      <td>0.666667</td>\n",
       "      <td>2017.0</td>\n",
       "      <td>2.0</td>\n",
       "    </tr>\n",
       "    <tr>\n",
       "      <th>2017-03</th>\n",
       "      <td>356.000000</td>\n",
       "      <td>3.800000</td>\n",
       "      <td>0.800000</td>\n",
       "      <td>0.184500</td>\n",
       "      <td>0.321000</td>\n",
       "      <td>2017.0</td>\n",
       "      <td>3.0</td>\n",
       "    </tr>\n",
       "    <tr>\n",
       "      <th>2017-04</th>\n",
       "      <td>243.333333</td>\n",
       "      <td>3.666667</td>\n",
       "      <td>2.333333</td>\n",
       "      <td>0.188889</td>\n",
       "      <td>0.388889</td>\n",
       "      <td>2017.0</td>\n",
       "      <td>4.0</td>\n",
       "    </tr>\n",
       "    <tr>\n",
       "      <th>2017-05</th>\n",
       "      <td>288.428571</td>\n",
       "      <td>4.000000</td>\n",
       "      <td>0.571429</td>\n",
       "      <td>0.257457</td>\n",
       "      <td>0.718983</td>\n",
       "      <td>2017.0</td>\n",
       "      <td>5.0</td>\n",
       "    </tr>\n",
       "    <tr>\n",
       "      <th>2017-06</th>\n",
       "      <td>393.500000</td>\n",
       "      <td>4.500000</td>\n",
       "      <td>0.500000</td>\n",
       "      <td>0.750000</td>\n",
       "      <td>1.000000</td>\n",
       "      <td>2017.0</td>\n",
       "      <td>6.0</td>\n",
       "    </tr>\n",
       "    <tr>\n",
       "      <th>2017-07</th>\n",
       "      <td>262.600000</td>\n",
       "      <td>3.000000</td>\n",
       "      <td>6.000000</td>\n",
       "      <td>0.222187</td>\n",
       "      <td>0.563750</td>\n",
       "      <td>2017.0</td>\n",
       "      <td>7.0</td>\n",
       "    </tr>\n",
       "    <tr>\n",
       "      <th>2017-08</th>\n",
       "      <td>277.250000</td>\n",
       "      <td>3.250000</td>\n",
       "      <td>3.000000</td>\n",
       "      <td>0.322436</td>\n",
       "      <td>0.599359</td>\n",
       "      <td>2017.0</td>\n",
       "      <td>8.0</td>\n",
       "    </tr>\n",
       "    <tr>\n",
       "      <th>2017-09</th>\n",
       "      <td>202.000000</td>\n",
       "      <td>1.000000</td>\n",
       "      <td>0.666667</td>\n",
       "      <td>-0.308333</td>\n",
       "      <td>0.333333</td>\n",
       "      <td>2017.0</td>\n",
       "      <td>9.0</td>\n",
       "    </tr>\n",
       "    <tr>\n",
       "      <th>2017-10</th>\n",
       "      <td>206.500000</td>\n",
       "      <td>4.500000</td>\n",
       "      <td>0.500000</td>\n",
       "      <td>0.133333</td>\n",
       "      <td>0.833333</td>\n",
       "      <td>2017.0</td>\n",
       "      <td>10.0</td>\n",
       "    </tr>\n",
       "    <tr>\n",
       "      <th>2017-11</th>\n",
       "      <td>335.400000</td>\n",
       "      <td>3.400000</td>\n",
       "      <td>0.600000</td>\n",
       "      <td>0.014722</td>\n",
       "      <td>0.316944</td>\n",
       "      <td>2017.0</td>\n",
       "      <td>11.0</td>\n",
       "    </tr>\n",
       "    <tr>\n",
       "      <th>2017-12</th>\n",
       "      <td>286.000000</td>\n",
       "      <td>3.250000</td>\n",
       "      <td>3.500000</td>\n",
       "      <td>0.238750</td>\n",
       "      <td>0.347500</td>\n",
       "      <td>2017.0</td>\n",
       "      <td>12.0</td>\n",
       "    </tr>\n",
       "    <tr>\n",
       "      <th>2018-01</th>\n",
       "      <td>265.600000</td>\n",
       "      <td>4.200000</td>\n",
       "      <td>0.400000</td>\n",
       "      <td>0.562500</td>\n",
       "      <td>0.743333</td>\n",
       "      <td>2018.0</td>\n",
       "      <td>1.0</td>\n",
       "    </tr>\n",
       "    <tr>\n",
       "      <th>2018-02</th>\n",
       "      <td>257.400000</td>\n",
       "      <td>2.600000</td>\n",
       "      <td>2.200000</td>\n",
       "      <td>0.156212</td>\n",
       "      <td>0.566167</td>\n",
       "      <td>2018.0</td>\n",
       "      <td>2.0</td>\n",
       "    </tr>\n",
       "    <tr>\n",
       "      <th>2018-03</th>\n",
       "      <td>182.833333</td>\n",
       "      <td>2.166667</td>\n",
       "      <td>0.166667</td>\n",
       "      <td>0.124479</td>\n",
       "      <td>0.366667</td>\n",
       "      <td>2018.0</td>\n",
       "      <td>3.0</td>\n",
       "    </tr>\n",
       "    <tr>\n",
       "      <th>2018-04</th>\n",
       "      <td>170.090909</td>\n",
       "      <td>4.363636</td>\n",
       "      <td>1.727273</td>\n",
       "      <td>0.302309</td>\n",
       "      <td>0.320592</td>\n",
       "      <td>2018.0</td>\n",
       "      <td>4.0</td>\n",
       "    </tr>\n",
       "    <tr>\n",
       "      <th>2018-05</th>\n",
       "      <td>260.500000</td>\n",
       "      <td>3.250000</td>\n",
       "      <td>1.250000</td>\n",
       "      <td>0.200220</td>\n",
       "      <td>0.413707</td>\n",
       "      <td>2018.0</td>\n",
       "      <td>5.0</td>\n",
       "    </tr>\n",
       "    <tr>\n",
       "      <th>2018-06</th>\n",
       "      <td>198.833333</td>\n",
       "      <td>2.500000</td>\n",
       "      <td>0.166667</td>\n",
       "      <td>0.178472</td>\n",
       "      <td>0.629456</td>\n",
       "      <td>2018.0</td>\n",
       "      <td>6.0</td>\n",
       "    </tr>\n",
       "    <tr>\n",
       "      <th>2018-07</th>\n",
       "      <td>152.500000</td>\n",
       "      <td>3.250000</td>\n",
       "      <td>1.500000</td>\n",
       "      <td>0.312500</td>\n",
       "      <td>0.514583</td>\n",
       "      <td>2018.0</td>\n",
       "      <td>7.0</td>\n",
       "    </tr>\n",
       "    <tr>\n",
       "      <th>2018-08</th>\n",
       "      <td>157.750000</td>\n",
       "      <td>3.500000</td>\n",
       "      <td>0.500000</td>\n",
       "      <td>0.362500</td>\n",
       "      <td>0.412500</td>\n",
       "      <td>2018.0</td>\n",
       "      <td>8.0</td>\n",
       "    </tr>\n",
       "    <tr>\n",
       "      <th>2018-09</th>\n",
       "      <td>109.333333</td>\n",
       "      <td>1.333333</td>\n",
       "      <td>1.666667</td>\n",
       "      <td>0.165982</td>\n",
       "      <td>0.465262</td>\n",
       "      <td>2018.0</td>\n",
       "      <td>9.0</td>\n",
       "    </tr>\n",
       "    <tr>\n",
       "      <th>2018-10</th>\n",
       "      <td>70.500000</td>\n",
       "      <td>2.333333</td>\n",
       "      <td>1.166667</td>\n",
       "      <td>0.035000</td>\n",
       "      <td>0.442222</td>\n",
       "      <td>2018.0</td>\n",
       "      <td>10.0</td>\n",
       "    </tr>\n",
       "    <tr>\n",
       "      <th>2018-11</th>\n",
       "      <td>83.800000</td>\n",
       "      <td>2.600000</td>\n",
       "      <td>0.400000</td>\n",
       "      <td>0.120000</td>\n",
       "      <td>0.310000</td>\n",
       "      <td>2018.0</td>\n",
       "      <td>11.0</td>\n",
       "    </tr>\n",
       "    <tr>\n",
       "      <th>2018-12</th>\n",
       "      <td>95.500000</td>\n",
       "      <td>4.500000</td>\n",
       "      <td>0.200000</td>\n",
       "      <td>0.509943</td>\n",
       "      <td>0.643379</td>\n",
       "      <td>2018.0</td>\n",
       "      <td>12.0</td>\n",
       "    </tr>\n",
       "    <tr>\n",
       "      <th>2019-01</th>\n",
       "      <td>80.666667</td>\n",
       "      <td>3.333333</td>\n",
       "      <td>1.333333</td>\n",
       "      <td>0.171607</td>\n",
       "      <td>0.451616</td>\n",
       "      <td>2019.0</td>\n",
       "      <td>1.0</td>\n",
       "    </tr>\n",
       "    <tr>\n",
       "      <th>2019-02</th>\n",
       "      <td>92.333333</td>\n",
       "      <td>3.333333</td>\n",
       "      <td>0.666667</td>\n",
       "      <td>0.145833</td>\n",
       "      <td>0.466667</td>\n",
       "      <td>2019.0</td>\n",
       "      <td>2.0</td>\n",
       "    </tr>\n",
       "    <tr>\n",
       "      <th>2019-03</th>\n",
       "      <td>61.333333</td>\n",
       "      <td>3.666667</td>\n",
       "      <td>1.000000</td>\n",
       "      <td>0.441605</td>\n",
       "      <td>0.622654</td>\n",
       "      <td>2019.0</td>\n",
       "      <td>3.0</td>\n",
       "    </tr>\n",
       "    <tr>\n",
       "      <th>2019-04</th>\n",
       "      <td>112.250000</td>\n",
       "      <td>3.250000</td>\n",
       "      <td>0.000000</td>\n",
       "      <td>0.212847</td>\n",
       "      <td>0.612500</td>\n",
       "      <td>2019.0</td>\n",
       "      <td>4.0</td>\n",
       "    </tr>\n",
       "    <tr>\n",
       "      <th>2019-05</th>\n",
       "      <td>177.666667</td>\n",
       "      <td>4.333333</td>\n",
       "      <td>0.000000</td>\n",
       "      <td>0.466667</td>\n",
       "      <td>0.395833</td>\n",
       "      <td>2019.0</td>\n",
       "      <td>5.0</td>\n",
       "    </tr>\n",
       "    <tr>\n",
       "      <th>2019-06</th>\n",
       "      <td>68.777778</td>\n",
       "      <td>3.666667</td>\n",
       "      <td>2.111111</td>\n",
       "      <td>0.505463</td>\n",
       "      <td>0.712407</td>\n",
       "      <td>2019.0</td>\n",
       "      <td>6.0</td>\n",
       "    </tr>\n",
       "    <tr>\n",
       "      <th>2019-07</th>\n",
       "      <td>78.250000</td>\n",
       "      <td>4.750000</td>\n",
       "      <td>0.500000</td>\n",
       "      <td>0.446875</td>\n",
       "      <td>0.605208</td>\n",
       "      <td>2019.0</td>\n",
       "      <td>7.0</td>\n",
       "    </tr>\n",
       "    <tr>\n",
       "      <th>2019-08</th>\n",
       "      <td>72.461538</td>\n",
       "      <td>3.461538</td>\n",
       "      <td>1.076923</td>\n",
       "      <td>0.287015</td>\n",
       "      <td>0.408468</td>\n",
       "      <td>2019.0</td>\n",
       "      <td>8.0</td>\n",
       "    </tr>\n",
       "    <tr>\n",
       "      <th>2019-09</th>\n",
       "      <td>72.875000</td>\n",
       "      <td>4.125000</td>\n",
       "      <td>1.000000</td>\n",
       "      <td>0.479583</td>\n",
       "      <td>0.461111</td>\n",
       "      <td>2019.0</td>\n",
       "      <td>9.0</td>\n",
       "    </tr>\n",
       "    <tr>\n",
       "      <th>2019-10</th>\n",
       "      <td>72.875000</td>\n",
       "      <td>4.375000</td>\n",
       "      <td>0.625000</td>\n",
       "      <td>0.607750</td>\n",
       "      <td>0.595750</td>\n",
       "      <td>2019.0</td>\n",
       "      <td>10.0</td>\n",
       "    </tr>\n",
       "    <tr>\n",
       "      <th>2019-11</th>\n",
       "      <td>85.600000</td>\n",
       "      <td>4.000000</td>\n",
       "      <td>0.600000</td>\n",
       "      <td>0.186148</td>\n",
       "      <td>0.537407</td>\n",
       "      <td>2019.0</td>\n",
       "      <td>11.0</td>\n",
       "    </tr>\n",
       "    <tr>\n",
       "      <th>2019-12</th>\n",
       "      <td>102.400000</td>\n",
       "      <td>4.200000</td>\n",
       "      <td>0.000000</td>\n",
       "      <td>0.380000</td>\n",
       "      <td>0.260000</td>\n",
       "      <td>2019.0</td>\n",
       "      <td>12.0</td>\n",
       "    </tr>\n",
       "    <tr>\n",
       "      <th>2020-01</th>\n",
       "      <td>91.000000</td>\n",
       "      <td>5.000000</td>\n",
       "      <td>0.000000</td>\n",
       "      <td>0.551250</td>\n",
       "      <td>0.686389</td>\n",
       "      <td>2020.0</td>\n",
       "      <td>1.0</td>\n",
       "    </tr>\n",
       "    <tr>\n",
       "      <th>2020-02</th>\n",
       "      <td>73.875000</td>\n",
       "      <td>3.125000</td>\n",
       "      <td>2.125000</td>\n",
       "      <td>0.376293</td>\n",
       "      <td>0.475637</td>\n",
       "      <td>2020.0</td>\n",
       "      <td>2.0</td>\n",
       "    </tr>\n",
       "    <tr>\n",
       "      <th>2020-03</th>\n",
       "      <td>51.333333</td>\n",
       "      <td>3.333333</td>\n",
       "      <td>2.000000</td>\n",
       "      <td>0.465111</td>\n",
       "      <td>0.552000</td>\n",
       "      <td>2020.0</td>\n",
       "      <td>3.0</td>\n",
       "    </tr>\n",
       "    <tr>\n",
       "      <th>2020-04</th>\n",
       "      <td>24.750000</td>\n",
       "      <td>2.750000</td>\n",
       "      <td>0.500000</td>\n",
       "      <td>0.336500</td>\n",
       "      <td>0.611311</td>\n",
       "      <td>2020.0</td>\n",
       "      <td>4.0</td>\n",
       "    </tr>\n",
       "    <tr>\n",
       "      <th>2020-05</th>\n",
       "      <td>41.888889</td>\n",
       "      <td>2.000000</td>\n",
       "      <td>2.111111</td>\n",
       "      <td>-0.004951</td>\n",
       "      <td>0.241152</td>\n",
       "      <td>2020.0</td>\n",
       "      <td>5.0</td>\n",
       "    </tr>\n",
       "    <tr>\n",
       "      <th>2020-06</th>\n",
       "      <td>28.333333</td>\n",
       "      <td>4.166667</td>\n",
       "      <td>1.000000</td>\n",
       "      <td>0.372475</td>\n",
       "      <td>0.490657</td>\n",
       "      <td>2020.0</td>\n",
       "      <td>6.0</td>\n",
       "    </tr>\n",
       "  </tbody>\n",
       "</table>\n",
       "</div>"
      ],
      "text/plain": [
       "                   rbr     stars     thumb  polarity  subjectivity    year  \\\n",
       "year_month                                                                   \n",
       "2016-06     338.250000  4.250000  0.250000  0.475000      0.412500  2016.0   \n",
       "2016-07     353.166667  3.000000  0.666667  0.383889      0.756111  2016.0   \n",
       "2016-08     303.166667  2.833333  1.000000  0.073889      0.298056  2016.0   \n",
       "2016-09     323.000000  4.000000  0.500000  0.416667      0.637500  2016.0   \n",
       "2016-10     311.000000  3.200000  3.000000  0.075455      0.216182  2016.0   \n",
       "2016-11     292.666667  3.666667  1.166667  0.381771      0.508333  2016.0   \n",
       "2016-12     313.750000  3.250000  1.250000  0.267083      0.596260  2016.0   \n",
       "2017-01     234.727273  4.363636  0.727273  0.503271      0.664542  2017.0   \n",
       "2017-02     227.000000  5.000000  4.000000  0.516667      0.666667  2017.0   \n",
       "2017-03     356.000000  3.800000  0.800000  0.184500      0.321000  2017.0   \n",
       "2017-04     243.333333  3.666667  2.333333  0.188889      0.388889  2017.0   \n",
       "2017-05     288.428571  4.000000  0.571429  0.257457      0.718983  2017.0   \n",
       "2017-06     393.500000  4.500000  0.500000  0.750000      1.000000  2017.0   \n",
       "2017-07     262.600000  3.000000  6.000000  0.222187      0.563750  2017.0   \n",
       "2017-08     277.250000  3.250000  3.000000  0.322436      0.599359  2017.0   \n",
       "2017-09     202.000000  1.000000  0.666667 -0.308333      0.333333  2017.0   \n",
       "2017-10     206.500000  4.500000  0.500000  0.133333      0.833333  2017.0   \n",
       "2017-11     335.400000  3.400000  0.600000  0.014722      0.316944  2017.0   \n",
       "2017-12     286.000000  3.250000  3.500000  0.238750      0.347500  2017.0   \n",
       "2018-01     265.600000  4.200000  0.400000  0.562500      0.743333  2018.0   \n",
       "2018-02     257.400000  2.600000  2.200000  0.156212      0.566167  2018.0   \n",
       "2018-03     182.833333  2.166667  0.166667  0.124479      0.366667  2018.0   \n",
       "2018-04     170.090909  4.363636  1.727273  0.302309      0.320592  2018.0   \n",
       "2018-05     260.500000  3.250000  1.250000  0.200220      0.413707  2018.0   \n",
       "2018-06     198.833333  2.500000  0.166667  0.178472      0.629456  2018.0   \n",
       "2018-07     152.500000  3.250000  1.500000  0.312500      0.514583  2018.0   \n",
       "2018-08     157.750000  3.500000  0.500000  0.362500      0.412500  2018.0   \n",
       "2018-09     109.333333  1.333333  1.666667  0.165982      0.465262  2018.0   \n",
       "2018-10      70.500000  2.333333  1.166667  0.035000      0.442222  2018.0   \n",
       "2018-11      83.800000  2.600000  0.400000  0.120000      0.310000  2018.0   \n",
       "2018-12      95.500000  4.500000  0.200000  0.509943      0.643379  2018.0   \n",
       "2019-01      80.666667  3.333333  1.333333  0.171607      0.451616  2019.0   \n",
       "2019-02      92.333333  3.333333  0.666667  0.145833      0.466667  2019.0   \n",
       "2019-03      61.333333  3.666667  1.000000  0.441605      0.622654  2019.0   \n",
       "2019-04     112.250000  3.250000  0.000000  0.212847      0.612500  2019.0   \n",
       "2019-05     177.666667  4.333333  0.000000  0.466667      0.395833  2019.0   \n",
       "2019-06      68.777778  3.666667  2.111111  0.505463      0.712407  2019.0   \n",
       "2019-07      78.250000  4.750000  0.500000  0.446875      0.605208  2019.0   \n",
       "2019-08      72.461538  3.461538  1.076923  0.287015      0.408468  2019.0   \n",
       "2019-09      72.875000  4.125000  1.000000  0.479583      0.461111  2019.0   \n",
       "2019-10      72.875000  4.375000  0.625000  0.607750      0.595750  2019.0   \n",
       "2019-11      85.600000  4.000000  0.600000  0.186148      0.537407  2019.0   \n",
       "2019-12     102.400000  4.200000  0.000000  0.380000      0.260000  2019.0   \n",
       "2020-01      91.000000  5.000000  0.000000  0.551250      0.686389  2020.0   \n",
       "2020-02      73.875000  3.125000  2.125000  0.376293      0.475637  2020.0   \n",
       "2020-03      51.333333  3.333333  2.000000  0.465111      0.552000  2020.0   \n",
       "2020-04      24.750000  2.750000  0.500000  0.336500      0.611311  2020.0   \n",
       "2020-05      41.888889  2.000000  2.111111 -0.004951      0.241152  2020.0   \n",
       "2020-06      28.333333  4.166667  1.000000  0.372475      0.490657  2020.0   \n",
       "\n",
       "            month  \n",
       "year_month         \n",
       "2016-06       6.0  \n",
       "2016-07       7.0  \n",
       "2016-08       8.0  \n",
       "2016-09       9.0  \n",
       "2016-10      10.0  \n",
       "2016-11      11.0  \n",
       "2016-12      12.0  \n",
       "2017-01       1.0  \n",
       "2017-02       2.0  \n",
       "2017-03       3.0  \n",
       "2017-04       4.0  \n",
       "2017-05       5.0  \n",
       "2017-06       6.0  \n",
       "2017-07       7.0  \n",
       "2017-08       8.0  \n",
       "2017-09       9.0  \n",
       "2017-10      10.0  \n",
       "2017-11      11.0  \n",
       "2017-12      12.0  \n",
       "2018-01       1.0  \n",
       "2018-02       2.0  \n",
       "2018-03       3.0  \n",
       "2018-04       4.0  \n",
       "2018-05       5.0  \n",
       "2018-06       6.0  \n",
       "2018-07       7.0  \n",
       "2018-08       8.0  \n",
       "2018-09       9.0  \n",
       "2018-10      10.0  \n",
       "2018-11      11.0  \n",
       "2018-12      12.0  \n",
       "2019-01       1.0  \n",
       "2019-02       2.0  \n",
       "2019-03       3.0  \n",
       "2019-04       4.0  \n",
       "2019-05       5.0  \n",
       "2019-06       6.0  \n",
       "2019-07       7.0  \n",
       "2019-08       8.0  \n",
       "2019-09       9.0  \n",
       "2019-10      10.0  \n",
       "2019-11      11.0  \n",
       "2019-12      12.0  \n",
       "2020-01       1.0  \n",
       "2020-02       2.0  \n",
       "2020-03       3.0  \n",
       "2020-04       4.0  \n",
       "2020-05       5.0  \n",
       "2020-06       6.0  "
      ]
     },
     "execution_count": 54,
     "metadata": {},
     "output_type": "execute_result"
    }
   ],
   "source": [
    "df_gbym"
   ]
  },
  {
   "cell_type": "code",
   "execution_count": 55,
   "metadata": {
    "scrolled": false
   },
   "outputs": [
    {
     "data": {
      "text/html": [
       "<div>\n",
       "<style scoped>\n",
       "    .dataframe tbody tr th:only-of-type {\n",
       "        vertical-align: middle;\n",
       "    }\n",
       "\n",
       "    .dataframe tbody tr th {\n",
       "        vertical-align: top;\n",
       "    }\n",
       "\n",
       "    .dataframe thead th {\n",
       "        text-align: right;\n",
       "    }\n",
       "</style>\n",
       "<table border=\"1\" class=\"dataframe\">\n",
       "  <thead>\n",
       "    <tr style=\"text-align: right;\">\n",
       "      <th></th>\n",
       "      <th>rbr</th>\n",
       "      <th>stars</th>\n",
       "      <th>thumb</th>\n",
       "      <th>polarity</th>\n",
       "      <th>subjectivity</th>\n",
       "      <th>year</th>\n",
       "      <th>month</th>\n",
       "    </tr>\n",
       "  </thead>\n",
       "  <tbody>\n",
       "    <tr>\n",
       "      <th>count</th>\n",
       "      <td>49.000000</td>\n",
       "      <td>49.000000</td>\n",
       "      <td>49.000000</td>\n",
       "      <td>49.000000</td>\n",
       "      <td>49.000000</td>\n",
       "      <td>49.000000</td>\n",
       "      <td>49.000000</td>\n",
       "    </tr>\n",
       "    <tr>\n",
       "      <th>mean</th>\n",
       "      <td>182.470407</td>\n",
       "      <td>3.497901</td>\n",
       "      <td>1.204594</td>\n",
       "      <td>0.297058</td>\n",
       "      <td>0.514161</td>\n",
       "      <td>2017.959184</td>\n",
       "      <td>6.489796</td>\n",
       "    </tr>\n",
       "    <tr>\n",
       "      <th>std</th>\n",
       "      <td>107.401692</td>\n",
       "      <td>0.872060</td>\n",
       "      <td>1.168830</td>\n",
       "      <td>0.192763</td>\n",
       "      <td>0.165855</td>\n",
       "      <td>1.257630</td>\n",
       "      <td>3.452791</td>\n",
       "    </tr>\n",
       "    <tr>\n",
       "      <th>min</th>\n",
       "      <td>24.750000</td>\n",
       "      <td>1.000000</td>\n",
       "      <td>0.000000</td>\n",
       "      <td>-0.308333</td>\n",
       "      <td>0.216182</td>\n",
       "      <td>2016.000000</td>\n",
       "      <td>1.000000</td>\n",
       "    </tr>\n",
       "    <tr>\n",
       "      <th>25%</th>\n",
       "      <td>80.666667</td>\n",
       "      <td>3.125000</td>\n",
       "      <td>0.500000</td>\n",
       "      <td>0.171607</td>\n",
       "      <td>0.395833</td>\n",
       "      <td>2017.000000</td>\n",
       "      <td>4.000000</td>\n",
       "    </tr>\n",
       "    <tr>\n",
       "      <th>50%</th>\n",
       "      <td>177.666667</td>\n",
       "      <td>3.461538</td>\n",
       "      <td>0.800000</td>\n",
       "      <td>0.302309</td>\n",
       "      <td>0.508333</td>\n",
       "      <td>2018.000000</td>\n",
       "      <td>6.000000</td>\n",
       "    </tr>\n",
       "    <tr>\n",
       "      <th>75%</th>\n",
       "      <td>277.250000</td>\n",
       "      <td>4.200000</td>\n",
       "      <td>1.666667</td>\n",
       "      <td>0.446875</td>\n",
       "      <td>0.622654</td>\n",
       "      <td>2019.000000</td>\n",
       "      <td>9.000000</td>\n",
       "    </tr>\n",
       "    <tr>\n",
       "      <th>max</th>\n",
       "      <td>393.500000</td>\n",
       "      <td>5.000000</td>\n",
       "      <td>6.000000</td>\n",
       "      <td>0.750000</td>\n",
       "      <td>1.000000</td>\n",
       "      <td>2020.000000</td>\n",
       "      <td>12.000000</td>\n",
       "    </tr>\n",
       "  </tbody>\n",
       "</table>\n",
       "</div>"
      ],
      "text/plain": [
       "              rbr      stars      thumb   polarity  subjectivity         year  \\\n",
       "count   49.000000  49.000000  49.000000  49.000000     49.000000    49.000000   \n",
       "mean   182.470407   3.497901   1.204594   0.297058      0.514161  2017.959184   \n",
       "std    107.401692   0.872060   1.168830   0.192763      0.165855     1.257630   \n",
       "min     24.750000   1.000000   0.000000  -0.308333      0.216182  2016.000000   \n",
       "25%     80.666667   3.125000   0.500000   0.171607      0.395833  2017.000000   \n",
       "50%    177.666667   3.461538   0.800000   0.302309      0.508333  2018.000000   \n",
       "75%    277.250000   4.200000   1.666667   0.446875      0.622654  2019.000000   \n",
       "max    393.500000   5.000000   6.000000   0.750000      1.000000  2020.000000   \n",
       "\n",
       "           month  \n",
       "count  49.000000  \n",
       "mean    6.489796  \n",
       "std     3.452791  \n",
       "min     1.000000  \n",
       "25%     4.000000  \n",
       "50%     6.000000  \n",
       "75%     9.000000  \n",
       "max    12.000000  "
      ]
     },
     "execution_count": 55,
     "metadata": {},
     "output_type": "execute_result"
    }
   ],
   "source": [
    "df_gbym.describe()"
   ]
  },
  {
   "cell_type": "markdown",
   "metadata": {},
   "source": [
    "### Grouped by year "
   ]
  },
  {
   "cell_type": "code",
   "execution_count": 56,
   "metadata": {},
   "outputs": [],
   "source": [
    "df_y=df.groupby('year')"
   ]
  },
  {
   "cell_type": "code",
   "execution_count": 57,
   "metadata": {
    "scrolled": true
   },
   "outputs": [
    {
     "data": {
      "text/plain": [
       "<pandas.core.groupby.generic.DataFrameGroupBy object at 0x0000022EE7C22E80>"
      ]
     },
     "execution_count": 57,
     "metadata": {},
     "output_type": "execute_result"
    }
   ],
   "source": [
    "df_y"
   ]
  },
  {
   "cell_type": "code",
   "execution_count": 58,
   "metadata": {},
   "outputs": [],
   "source": [
    "\n",
    "pd.set_option('display.max_rows', 500)\n",
    "pd.set_option('display.max_columns', 500)\n",
    "pd.set_option('display.width', 1000)"
   ]
  },
  {
   "cell_type": "code",
   "execution_count": 59,
   "metadata": {
    "scrolled": true
   },
   "outputs": [
    {
     "data": {
      "text/html": [
       "<div>\n",
       "<style scoped>\n",
       "    .dataframe tbody tr th:only-of-type {\n",
       "        vertical-align: middle;\n",
       "    }\n",
       "\n",
       "    .dataframe tbody tr th {\n",
       "        vertical-align: top;\n",
       "    }\n",
       "\n",
       "    .dataframe thead tr th {\n",
       "        text-align: left;\n",
       "    }\n",
       "\n",
       "    .dataframe thead tr:last-of-type th {\n",
       "        text-align: right;\n",
       "    }\n",
       "</style>\n",
       "<table border=\"1\" class=\"dataframe\">\n",
       "  <thead>\n",
       "    <tr>\n",
       "      <th></th>\n",
       "      <th colspan=\"8\" halign=\"left\">rbr</th>\n",
       "      <th colspan=\"8\" halign=\"left\">stars</th>\n",
       "      <th colspan=\"8\" halign=\"left\">thumb</th>\n",
       "      <th colspan=\"8\" halign=\"left\">polarity</th>\n",
       "      <th colspan=\"8\" halign=\"left\">subjectivity</th>\n",
       "      <th colspan=\"8\" halign=\"left\">month</th>\n",
       "    </tr>\n",
       "    <tr>\n",
       "      <th></th>\n",
       "      <th>count</th>\n",
       "      <th>mean</th>\n",
       "      <th>std</th>\n",
       "      <th>min</th>\n",
       "      <th>25%</th>\n",
       "      <th>50%</th>\n",
       "      <th>75%</th>\n",
       "      <th>max</th>\n",
       "      <th>count</th>\n",
       "      <th>mean</th>\n",
       "      <th>std</th>\n",
       "      <th>min</th>\n",
       "      <th>25%</th>\n",
       "      <th>50%</th>\n",
       "      <th>75%</th>\n",
       "      <th>max</th>\n",
       "      <th>count</th>\n",
       "      <th>mean</th>\n",
       "      <th>std</th>\n",
       "      <th>min</th>\n",
       "      <th>25%</th>\n",
       "      <th>50%</th>\n",
       "      <th>75%</th>\n",
       "      <th>max</th>\n",
       "      <th>count</th>\n",
       "      <th>mean</th>\n",
       "      <th>std</th>\n",
       "      <th>min</th>\n",
       "      <th>25%</th>\n",
       "      <th>50%</th>\n",
       "      <th>75%</th>\n",
       "      <th>max</th>\n",
       "      <th>count</th>\n",
       "      <th>mean</th>\n",
       "      <th>std</th>\n",
       "      <th>min</th>\n",
       "      <th>25%</th>\n",
       "      <th>50%</th>\n",
       "      <th>75%</th>\n",
       "      <th>max</th>\n",
       "      <th>count</th>\n",
       "      <th>mean</th>\n",
       "      <th>std</th>\n",
       "      <th>min</th>\n",
       "      <th>25%</th>\n",
       "      <th>50%</th>\n",
       "      <th>75%</th>\n",
       "      <th>max</th>\n",
       "    </tr>\n",
       "    <tr>\n",
       "      <th>year</th>\n",
       "      <th></th>\n",
       "      <th></th>\n",
       "      <th></th>\n",
       "      <th></th>\n",
       "      <th></th>\n",
       "      <th></th>\n",
       "      <th></th>\n",
       "      <th></th>\n",
       "      <th></th>\n",
       "      <th></th>\n",
       "      <th></th>\n",
       "      <th></th>\n",
       "      <th></th>\n",
       "      <th></th>\n",
       "      <th></th>\n",
       "      <th></th>\n",
       "      <th></th>\n",
       "      <th></th>\n",
       "      <th></th>\n",
       "      <th></th>\n",
       "      <th></th>\n",
       "      <th></th>\n",
       "      <th></th>\n",
       "      <th></th>\n",
       "      <th></th>\n",
       "      <th></th>\n",
       "      <th></th>\n",
       "      <th></th>\n",
       "      <th></th>\n",
       "      <th></th>\n",
       "      <th></th>\n",
       "      <th></th>\n",
       "      <th></th>\n",
       "      <th></th>\n",
       "      <th></th>\n",
       "      <th></th>\n",
       "      <th></th>\n",
       "      <th></th>\n",
       "      <th></th>\n",
       "      <th></th>\n",
       "      <th></th>\n",
       "      <th></th>\n",
       "      <th></th>\n",
       "      <th></th>\n",
       "      <th></th>\n",
       "      <th></th>\n",
       "      <th></th>\n",
       "      <th></th>\n",
       "    </tr>\n",
       "  </thead>\n",
       "  <tbody>\n",
       "    <tr>\n",
       "      <th>2016</th>\n",
       "      <td>39.0</td>\n",
       "      <td>318.051282</td>\n",
       "      <td>116.964446</td>\n",
       "      <td>231.0</td>\n",
       "      <td>247.50</td>\n",
       "      <td>260.0</td>\n",
       "      <td>282.50</td>\n",
       "      <td>572.0</td>\n",
       "      <td>39.0</td>\n",
       "      <td>3.384615</td>\n",
       "      <td>1.679840</td>\n",
       "      <td>1.0</td>\n",
       "      <td>1.0</td>\n",
       "      <td>4.0</td>\n",
       "      <td>5.0</td>\n",
       "      <td>5.0</td>\n",
       "      <td>39.0</td>\n",
       "      <td>1.153846</td>\n",
       "      <td>2.020141</td>\n",
       "      <td>0.0</td>\n",
       "      <td>0.0</td>\n",
       "      <td>0.0</td>\n",
       "      <td>1.00</td>\n",
       "      <td>10.0</td>\n",
       "      <td>39.0</td>\n",
       "      <td>0.285074</td>\n",
       "      <td>0.389167</td>\n",
       "      <td>-0.500000</td>\n",
       "      <td>0.000000</td>\n",
       "      <td>0.225000</td>\n",
       "      <td>0.575000</td>\n",
       "      <td>1.0</td>\n",
       "      <td>39.0</td>\n",
       "      <td>0.498102</td>\n",
       "      <td>0.309747</td>\n",
       "      <td>0.0</td>\n",
       "      <td>0.304167</td>\n",
       "      <td>0.6000</td>\n",
       "      <td>0.750000</td>\n",
       "      <td>1.0</td>\n",
       "      <td>39.0</td>\n",
       "      <td>9.282051</td>\n",
       "      <td>2.076798</td>\n",
       "      <td>6.0</td>\n",
       "      <td>7.5</td>\n",
       "      <td>9.0</td>\n",
       "      <td>11.0</td>\n",
       "      <td>12.0</td>\n",
       "    </tr>\n",
       "    <tr>\n",
       "      <th>2017</th>\n",
       "      <td>52.0</td>\n",
       "      <td>276.673077</td>\n",
       "      <td>125.419566</td>\n",
       "      <td>190.0</td>\n",
       "      <td>207.75</td>\n",
       "      <td>221.5</td>\n",
       "      <td>236.25</td>\n",
       "      <td>577.0</td>\n",
       "      <td>52.0</td>\n",
       "      <td>3.653846</td>\n",
       "      <td>1.570370</td>\n",
       "      <td>1.0</td>\n",
       "      <td>2.0</td>\n",
       "      <td>4.0</td>\n",
       "      <td>5.0</td>\n",
       "      <td>5.0</td>\n",
       "      <td>52.0</td>\n",
       "      <td>1.730769</td>\n",
       "      <td>3.138098</td>\n",
       "      <td>0.0</td>\n",
       "      <td>0.0</td>\n",
       "      <td>0.5</td>\n",
       "      <td>1.25</td>\n",
       "      <td>14.0</td>\n",
       "      <td>52.0</td>\n",
       "      <td>0.261826</td>\n",
       "      <td>0.426712</td>\n",
       "      <td>-1.000000</td>\n",
       "      <td>-0.006042</td>\n",
       "      <td>0.270312</td>\n",
       "      <td>0.616667</td>\n",
       "      <td>1.0</td>\n",
       "      <td>52.0</td>\n",
       "      <td>0.550745</td>\n",
       "      <td>0.303636</td>\n",
       "      <td>0.0</td>\n",
       "      <td>0.399792</td>\n",
       "      <td>0.6000</td>\n",
       "      <td>0.750000</td>\n",
       "      <td>1.0</td>\n",
       "      <td>52.0</td>\n",
       "      <td>5.846154</td>\n",
       "      <td>3.712114</td>\n",
       "      <td>1.0</td>\n",
       "      <td>3.0</td>\n",
       "      <td>5.0</td>\n",
       "      <td>9.0</td>\n",
       "      <td>12.0</td>\n",
       "    </tr>\n",
       "    <tr>\n",
       "      <th>2018</th>\n",
       "      <td>69.0</td>\n",
       "      <td>162.086957</td>\n",
       "      <td>101.054403</td>\n",
       "      <td>26.0</td>\n",
       "      <td>106.00</td>\n",
       "      <td>161.0</td>\n",
       "      <td>178.00</td>\n",
       "      <td>567.0</td>\n",
       "      <td>69.0</td>\n",
       "      <td>3.275362</td>\n",
       "      <td>1.713991</td>\n",
       "      <td>1.0</td>\n",
       "      <td>1.0</td>\n",
       "      <td>4.0</td>\n",
       "      <td>5.0</td>\n",
       "      <td>5.0</td>\n",
       "      <td>69.0</td>\n",
       "      <td>0.913043</td>\n",
       "      <td>1.411498</td>\n",
       "      <td>0.0</td>\n",
       "      <td>0.0</td>\n",
       "      <td>0.0</td>\n",
       "      <td>1.00</td>\n",
       "      <td>6.0</td>\n",
       "      <td>69.0</td>\n",
       "      <td>0.270216</td>\n",
       "      <td>0.385533</td>\n",
       "      <td>-0.800000</td>\n",
       "      <td>0.000000</td>\n",
       "      <td>0.250000</td>\n",
       "      <td>0.500000</td>\n",
       "      <td>1.0</td>\n",
       "      <td>69.0</td>\n",
       "      <td>0.484736</td>\n",
       "      <td>0.255194</td>\n",
       "      <td>0.0</td>\n",
       "      <td>0.300000</td>\n",
       "      <td>0.5125</td>\n",
       "      <td>0.666667</td>\n",
       "      <td>1.0</td>\n",
       "      <td>69.0</td>\n",
       "      <td>6.594203</td>\n",
       "      <td>3.659471</td>\n",
       "      <td>1.0</td>\n",
       "      <td>4.0</td>\n",
       "      <td>6.0</td>\n",
       "      <td>10.0</td>\n",
       "      <td>12.0</td>\n",
       "    </tr>\n",
       "    <tr>\n",
       "      <th>2019</th>\n",
       "      <td>84.0</td>\n",
       "      <td>85.464286</td>\n",
       "      <td>64.329807</td>\n",
       "      <td>20.0</td>\n",
       "      <td>47.75</td>\n",
       "      <td>79.0</td>\n",
       "      <td>110.25</td>\n",
       "      <td>561.0</td>\n",
       "      <td>84.0</td>\n",
       "      <td>3.880952</td>\n",
       "      <td>1.539870</td>\n",
       "      <td>1.0</td>\n",
       "      <td>3.0</td>\n",
       "      <td>5.0</td>\n",
       "      <td>5.0</td>\n",
       "      <td>5.0</td>\n",
       "      <td>84.0</td>\n",
       "      <td>0.869048</td>\n",
       "      <td>1.655802</td>\n",
       "      <td>0.0</td>\n",
       "      <td>0.0</td>\n",
       "      <td>0.0</td>\n",
       "      <td>1.00</td>\n",
       "      <td>9.0</td>\n",
       "      <td>84.0</td>\n",
       "      <td>0.376997</td>\n",
       "      <td>0.368454</td>\n",
       "      <td>-0.500000</td>\n",
       "      <td>0.000000</td>\n",
       "      <td>0.400000</td>\n",
       "      <td>0.700000</td>\n",
       "      <td>1.0</td>\n",
       "      <td>84.0</td>\n",
       "      <td>0.512272</td>\n",
       "      <td>0.308559</td>\n",
       "      <td>0.0</td>\n",
       "      <td>0.300000</td>\n",
       "      <td>0.6000</td>\n",
       "      <td>0.750000</td>\n",
       "      <td>1.0</td>\n",
       "      <td>84.0</td>\n",
       "      <td>6.666667</td>\n",
       "      <td>3.249961</td>\n",
       "      <td>1.0</td>\n",
       "      <td>4.0</td>\n",
       "      <td>7.0</td>\n",
       "      <td>9.0</td>\n",
       "      <td>12.0</td>\n",
       "    </tr>\n",
       "    <tr>\n",
       "      <th>2020</th>\n",
       "      <td>33.0</td>\n",
       "      <td>50.424242</td>\n",
       "      <td>47.053846</td>\n",
       "      <td>2.0</td>\n",
       "      <td>11.00</td>\n",
       "      <td>19.0</td>\n",
       "      <td>92.00</td>\n",
       "      <td>129.0</td>\n",
       "      <td>33.0</td>\n",
       "      <td>3.151515</td>\n",
       "      <td>1.734236</td>\n",
       "      <td>1.0</td>\n",
       "      <td>1.0</td>\n",
       "      <td>4.0</td>\n",
       "      <td>5.0</td>\n",
       "      <td>5.0</td>\n",
       "      <td>33.0</td>\n",
       "      <td>1.515152</td>\n",
       "      <td>2.739996</td>\n",
       "      <td>0.0</td>\n",
       "      <td>0.0</td>\n",
       "      <td>0.0</td>\n",
       "      <td>3.00</td>\n",
       "      <td>9.0</td>\n",
       "      <td>33.0</td>\n",
       "      <td>0.290779</td>\n",
       "      <td>0.364226</td>\n",
       "      <td>-0.416667</td>\n",
       "      <td>0.000000</td>\n",
       "      <td>0.175595</td>\n",
       "      <td>0.460000</td>\n",
       "      <td>1.0</td>\n",
       "      <td>33.0</td>\n",
       "      <td>0.456964</td>\n",
       "      <td>0.263008</td>\n",
       "      <td>0.0</td>\n",
       "      <td>0.390000</td>\n",
       "      <td>0.5000</td>\n",
       "      <td>0.633333</td>\n",
       "      <td>1.0</td>\n",
       "      <td>33.0</td>\n",
       "      <td>3.787879</td>\n",
       "      <td>1.709488</td>\n",
       "      <td>1.0</td>\n",
       "      <td>2.0</td>\n",
       "      <td>4.0</td>\n",
       "      <td>5.0</td>\n",
       "      <td>6.0</td>\n",
       "    </tr>\n",
       "  </tbody>\n",
       "</table>\n",
       "</div>"
      ],
      "text/plain": [
       "       rbr                                                              stars                                              thumb                                                polarity                                                                  subjectivity                                                           month                                               \n",
       "     count        mean         std    min     25%    50%     75%    max count      mean       std  min  25%  50%  75%  max count      mean       std  min  25%  50%   75%   max    count      mean       std       min       25%       50%       75%  max        count      mean       std  min       25%     50%       75%  max count      mean       std  min  25%  50%   75%   max\n",
       "year                                                                                                                                                                                                                                                                                                                                                                                 \n",
       "2016  39.0  318.051282  116.964446  231.0  247.50  260.0  282.50  572.0  39.0  3.384615  1.679840  1.0  1.0  4.0  5.0  5.0  39.0  1.153846  2.020141  0.0  0.0  0.0  1.00  10.0     39.0  0.285074  0.389167 -0.500000  0.000000  0.225000  0.575000  1.0         39.0  0.498102  0.309747  0.0  0.304167  0.6000  0.750000  1.0  39.0  9.282051  2.076798  6.0  7.5  9.0  11.0  12.0\n",
       "2017  52.0  276.673077  125.419566  190.0  207.75  221.5  236.25  577.0  52.0  3.653846  1.570370  1.0  2.0  4.0  5.0  5.0  52.0  1.730769  3.138098  0.0  0.0  0.5  1.25  14.0     52.0  0.261826  0.426712 -1.000000 -0.006042  0.270312  0.616667  1.0         52.0  0.550745  0.303636  0.0  0.399792  0.6000  0.750000  1.0  52.0  5.846154  3.712114  1.0  3.0  5.0   9.0  12.0\n",
       "2018  69.0  162.086957  101.054403   26.0  106.00  161.0  178.00  567.0  69.0  3.275362  1.713991  1.0  1.0  4.0  5.0  5.0  69.0  0.913043  1.411498  0.0  0.0  0.0  1.00   6.0     69.0  0.270216  0.385533 -0.800000  0.000000  0.250000  0.500000  1.0         69.0  0.484736  0.255194  0.0  0.300000  0.5125  0.666667  1.0  69.0  6.594203  3.659471  1.0  4.0  6.0  10.0  12.0\n",
       "2019  84.0   85.464286   64.329807   20.0   47.75   79.0  110.25  561.0  84.0  3.880952  1.539870  1.0  3.0  5.0  5.0  5.0  84.0  0.869048  1.655802  0.0  0.0  0.0  1.00   9.0     84.0  0.376997  0.368454 -0.500000  0.000000  0.400000  0.700000  1.0         84.0  0.512272  0.308559  0.0  0.300000  0.6000  0.750000  1.0  84.0  6.666667  3.249961  1.0  4.0  7.0   9.0  12.0\n",
       "2020  33.0   50.424242   47.053846    2.0   11.00   19.0   92.00  129.0  33.0  3.151515  1.734236  1.0  1.0  4.0  5.0  5.0  33.0  1.515152  2.739996  0.0  0.0  0.0  3.00   9.0     33.0  0.290779  0.364226 -0.416667  0.000000  0.175595  0.460000  1.0         33.0  0.456964  0.263008  0.0  0.390000  0.5000  0.633333  1.0  33.0  3.787879  1.709488  1.0  2.0  4.0   5.0   6.0"
      ]
     },
     "execution_count": 59,
     "metadata": {},
     "output_type": "execute_result"
    }
   ],
   "source": [
    "df_y.describe()"
   ]
  },
  {
   "cell_type": "code",
   "execution_count": 60,
   "metadata": {},
   "outputs": [],
   "source": [
    "x = df.to_excel"
   ]
  },
  {
   "cell_type": "code",
   "execution_count": 61,
   "metadata": {
    "scrolled": true
   },
   "outputs": [
    {
     "name": "stdout",
     "output_type": "stream",
     "text": [
      "       rbr                                                              stars                                              thumb                                                polarity                                                                  subjectivity                                                           month                                               \n",
      "     count        mean         std    min     25%    50%     75%    max count      mean       std  min  25%  50%  75%  max count      mean       std  min  25%  50%   75%   max    count      mean       std       min       25%       50%       75%  max        count      mean       std  min       25%     50%       75%  max count      mean       std  min  25%  50%   75%   max\n",
      "year                                                                                                                                                                                                                                                                                                                                                                                 \n",
      "2016  39.0  318.051282  116.964446  231.0  247.50  260.0  282.50  572.0  39.0  3.384615  1.679840  1.0  1.0  4.0  5.0  5.0  39.0  1.153846  2.020141  0.0  0.0  0.0  1.00  10.0     39.0  0.285074  0.389167 -0.500000  0.000000  0.225000  0.575000  1.0         39.0  0.498102  0.309747  0.0  0.304167  0.6000  0.750000  1.0  39.0  9.282051  2.076798  6.0  7.5  9.0  11.0  12.0\n",
      "2017  52.0  276.673077  125.419566  190.0  207.75  221.5  236.25  577.0  52.0  3.653846  1.570370  1.0  2.0  4.0  5.0  5.0  52.0  1.730769  3.138098  0.0  0.0  0.5  1.25  14.0     52.0  0.261826  0.426712 -1.000000 -0.006042  0.270312  0.616667  1.0         52.0  0.550745  0.303636  0.0  0.399792  0.6000  0.750000  1.0  52.0  5.846154  3.712114  1.0  3.0  5.0   9.0  12.0\n",
      "2018  69.0  162.086957  101.054403   26.0  106.00  161.0  178.00  567.0  69.0  3.275362  1.713991  1.0  1.0  4.0  5.0  5.0  69.0  0.913043  1.411498  0.0  0.0  0.0  1.00   6.0     69.0  0.270216  0.385533 -0.800000  0.000000  0.250000  0.500000  1.0         69.0  0.484736  0.255194  0.0  0.300000  0.5125  0.666667  1.0  69.0  6.594203  3.659471  1.0  4.0  6.0  10.0  12.0\n",
      "2019  84.0   85.464286   64.329807   20.0   47.75   79.0  110.25  561.0  84.0  3.880952  1.539870  1.0  3.0  5.0  5.0  5.0  84.0  0.869048  1.655802  0.0  0.0  0.0  1.00   9.0     84.0  0.376997  0.368454 -0.500000  0.000000  0.400000  0.700000  1.0         84.0  0.512272  0.308559  0.0  0.300000  0.6000  0.750000  1.0  84.0  6.666667  3.249961  1.0  4.0  7.0   9.0  12.0\n",
      "2020  33.0   50.424242   47.053846    2.0   11.00   19.0   92.00  129.0  33.0  3.151515  1.734236  1.0  1.0  4.0  5.0  5.0  33.0  1.515152  2.739996  0.0  0.0  0.0  3.00   9.0     33.0  0.290779  0.364226 -0.416667  0.000000  0.175595  0.460000  1.0         33.0  0.456964  0.263008  0.0  0.390000  0.5000  0.633333  1.0  33.0  3.787879  1.709488  1.0  2.0  4.0   5.0   6.0\n"
     ]
    }
   ],
   "source": [
    "t=df_y.describe()\n",
    "print(t)\n",
    "t.to_excel('table_y.xlsx')"
   ]
  },
  {
   "cell_type": "markdown",
   "metadata": {},
   "source": [
    "### Statistics on gbym m & sd"
   ]
  },
  {
   "cell_type": "code",
   "execution_count": 62,
   "metadata": {},
   "outputs": [],
   "source": [
    "df_gbym=df.groupby('year')"
   ]
  },
  {
   "cell_type": "code",
   "execution_count": 63,
   "metadata": {},
   "outputs": [
    {
     "data": {
      "text/html": [
       "<div>\n",
       "<style scoped>\n",
       "    .dataframe tbody tr th:only-of-type {\n",
       "        vertical-align: middle;\n",
       "    }\n",
       "\n",
       "    .dataframe tbody tr th {\n",
       "        vertical-align: top;\n",
       "    }\n",
       "\n",
       "    .dataframe thead th {\n",
       "        text-align: right;\n",
       "    }\n",
       "</style>\n",
       "<table border=\"1\" class=\"dataframe\">\n",
       "  <thead>\n",
       "    <tr style=\"text-align: right;\">\n",
       "      <th></th>\n",
       "      <th>count</th>\n",
       "      <th>mean</th>\n",
       "      <th>std</th>\n",
       "      <th>min</th>\n",
       "      <th>25%</th>\n",
       "      <th>50%</th>\n",
       "      <th>75%</th>\n",
       "      <th>max</th>\n",
       "    </tr>\n",
       "    <tr>\n",
       "      <th>year</th>\n",
       "      <th></th>\n",
       "      <th></th>\n",
       "      <th></th>\n",
       "      <th></th>\n",
       "      <th></th>\n",
       "      <th></th>\n",
       "      <th></th>\n",
       "      <th></th>\n",
       "    </tr>\n",
       "  </thead>\n",
       "  <tbody>\n",
       "    <tr>\n",
       "      <th>2016</th>\n",
       "      <td>39.0</td>\n",
       "      <td>3.384615</td>\n",
       "      <td>1.679840</td>\n",
       "      <td>1.0</td>\n",
       "      <td>1.0</td>\n",
       "      <td>4.0</td>\n",
       "      <td>5.0</td>\n",
       "      <td>5.0</td>\n",
       "    </tr>\n",
       "    <tr>\n",
       "      <th>2017</th>\n",
       "      <td>52.0</td>\n",
       "      <td>3.653846</td>\n",
       "      <td>1.570370</td>\n",
       "      <td>1.0</td>\n",
       "      <td>2.0</td>\n",
       "      <td>4.0</td>\n",
       "      <td>5.0</td>\n",
       "      <td>5.0</td>\n",
       "    </tr>\n",
       "    <tr>\n",
       "      <th>2018</th>\n",
       "      <td>69.0</td>\n",
       "      <td>3.275362</td>\n",
       "      <td>1.713991</td>\n",
       "      <td>1.0</td>\n",
       "      <td>1.0</td>\n",
       "      <td>4.0</td>\n",
       "      <td>5.0</td>\n",
       "      <td>5.0</td>\n",
       "    </tr>\n",
       "    <tr>\n",
       "      <th>2019</th>\n",
       "      <td>84.0</td>\n",
       "      <td>3.880952</td>\n",
       "      <td>1.539870</td>\n",
       "      <td>1.0</td>\n",
       "      <td>3.0</td>\n",
       "      <td>5.0</td>\n",
       "      <td>5.0</td>\n",
       "      <td>5.0</td>\n",
       "    </tr>\n",
       "    <tr>\n",
       "      <th>2020</th>\n",
       "      <td>33.0</td>\n",
       "      <td>3.151515</td>\n",
       "      <td>1.734236</td>\n",
       "      <td>1.0</td>\n",
       "      <td>1.0</td>\n",
       "      <td>4.0</td>\n",
       "      <td>5.0</td>\n",
       "      <td>5.0</td>\n",
       "    </tr>\n",
       "  </tbody>\n",
       "</table>\n",
       "</div>"
      ],
      "text/plain": [
       "      count      mean       std  min  25%  50%  75%  max\n",
       "year                                                    \n",
       "2016   39.0  3.384615  1.679840  1.0  1.0  4.0  5.0  5.0\n",
       "2017   52.0  3.653846  1.570370  1.0  2.0  4.0  5.0  5.0\n",
       "2018   69.0  3.275362  1.713991  1.0  1.0  4.0  5.0  5.0\n",
       "2019   84.0  3.880952  1.539870  1.0  3.0  5.0  5.0  5.0\n",
       "2020   33.0  3.151515  1.734236  1.0  1.0  4.0  5.0  5.0"
      ]
     },
     "execution_count": 63,
     "metadata": {},
     "output_type": "execute_result"
    }
   ],
   "source": [
    "df_gbym['stars'].describe()"
   ]
  },
  {
   "cell_type": "code",
   "execution_count": 64,
   "metadata": {
    "scrolled": false
   },
   "outputs": [
    {
     "data": {
      "text/plain": [
       "year\n",
       "2016    3.384615\n",
       "2017    3.653846\n",
       "2018    3.275362\n",
       "2019    3.880952\n",
       "2020    3.151515\n",
       "Name: stars, dtype: float64"
      ]
     },
     "execution_count": 64,
     "metadata": {},
     "output_type": "execute_result"
    }
   ],
   "source": [
    "df_gbym['stars'].mean()"
   ]
  },
  {
   "cell_type": "markdown",
   "metadata": {},
   "source": []
  },
  {
   "cell_type": "code",
   "execution_count": 65,
   "metadata": {},
   "outputs": [
    {
     "data": {
      "text/plain": [
       "year\n",
       "2016    1.679840\n",
       "2017    1.570370\n",
       "2018    1.713991\n",
       "2019    1.539870\n",
       "2020    1.734236\n",
       "Name: stars, dtype: float64"
      ]
     },
     "execution_count": 65,
     "metadata": {},
     "output_type": "execute_result"
    }
   ],
   "source": [
    "df_gbym['stars'].std()"
   ]
  },
  {
   "cell_type": "markdown",
   "metadata": {},
   "source": [
    "### Average mark in Playstore is 4.2. - people tend to comment negative things more"
   ]
  },
  {
   "cell_type": "markdown",
   "metadata": {},
   "source": [
    "https://play.google.com/store/apps/details?id=hr.mireo.arthur&hl=en\n",
    "\n",
    "In the case of Genius maps, average star mark is lower if people leave comments - people that are deeply provoked are willing to say something. "
   ]
  },
  {
   "cell_type": "markdown",
   "metadata": {},
   "source": [
    "## Average review depending on year"
   ]
  },
  {
   "cell_type": "code",
   "execution_count": 66,
   "metadata": {},
   "outputs": [
    {
     "name": "stdout",
     "output_type": "stream",
     "text": [
      "<class 'pandas.core.frame.DataFrame'>\n",
      "RangeIndex: 277 entries, 0 to 276\n",
      "Data columns (total 13 columns):\n",
      " #   Column        Non-Null Count  Dtype         \n",
      "---  ------        --------------  -----         \n",
      " 0   rbr           277 non-null    int64         \n",
      " 1   name          277 non-null    object        \n",
      " 2   date          277 non-null    datetime64[ns]\n",
      " 3   stars         277 non-null    int8          \n",
      " 4   review        277 non-null    object        \n",
      " 5   lang          229 non-null    object        \n",
      " 6   thumb         277 non-null    int64         \n",
      " 7   reply         76 non-null     object        \n",
      " 8   polarity      277 non-null    float64       \n",
      " 9   subjectivity  277 non-null    float64       \n",
      " 10  year          277 non-null    int64         \n",
      " 11  month         277 non-null    int64         \n",
      " 12  year_month    277 non-null    period[M]     \n",
      "dtypes: datetime64[ns](1), float64(2), int64(4), int8(1), object(4), period[M](1)\n",
      "memory usage: 26.4+ KB\n"
     ]
    }
   ],
   "source": [
    "df.info()"
   ]
  },
  {
   "cell_type": "markdown",
   "metadata": {},
   "source": [
    "How TextBlob Sentiment analysis wokrs: <a href='https://www.youtube.com/watch?v=xvqsFTUsOmc'> 1:12:15 "
   ]
  },
  {
   "cell_type": "code",
   "execution_count": 67,
   "metadata": {},
   "outputs": [
    {
     "data": {
      "text/plain": [
       "Sentiment(polarity=0.7, subjectivity=0.6000000000000001)"
      ]
     },
     "execution_count": 67,
     "metadata": {},
     "output_type": "execute_result"
    }
   ],
   "source": [
    "TextBlob(\"good\").sentiment"
   ]
  },
  {
   "cell_type": "code",
   "execution_count": 68,
   "metadata": {},
   "outputs": [
    {
     "data": {
      "text/plain": [
       "Sentiment(polarity=0.8, subjectivity=0.75)"
      ]
     },
     "execution_count": 68,
     "metadata": {},
     "output_type": "execute_result"
    }
   ],
   "source": [
    "TextBlob(\"great\").sentiment"
   ]
  },
  {
   "cell_type": "code",
   "execution_count": 69,
   "metadata": {},
   "outputs": [
    {
     "data": {
      "text/plain": [
       "Sentiment(polarity=-0.4, subjectivity=0.75)"
      ]
     },
     "execution_count": 69,
     "metadata": {},
     "output_type": "execute_result"
    }
   ],
   "source": [
    "TextBlob(\"not great\").sentiment"
   ]
  },
  {
   "cell_type": "code",
   "execution_count": 70,
   "metadata": {},
   "outputs": [
    {
     "data": {
      "text/plain": [
       "Sentiment(polarity=1.0, subjectivity=0.9750000000000001)"
      ]
     },
     "execution_count": 70,
     "metadata": {},
     "output_type": "execute_result"
    }
   ],
   "source": [
    "TextBlob(\"very great\").sentiment"
   ]
  },
  {
   "cell_type": "code",
   "execution_count": 71,
   "metadata": {
    "scrolled": true
   },
   "outputs": [
    {
     "data": {
      "text/plain": [
       "Sentiment(polarity=0.8, subjectivity=0.75)"
      ]
     },
     "execution_count": 71,
     "metadata": {},
     "output_type": "execute_result"
    }
   ],
   "source": [
    "TextBlob(\"I am great\").sentiment"
   ]
  },
  {
   "cell_type": "code",
   "execution_count": 72,
   "metadata": {},
   "outputs": [],
   "source": [
    "import math"
   ]
  },
  {
   "cell_type": "code",
   "execution_count": 73,
   "metadata": {},
   "outputs": [],
   "source": [
    "from nltk.util import bigrams, trigrams, ngrams"
   ]
  },
  {
   "cell_type": "code",
   "execution_count": 74,
   "metadata": {},
   "outputs": [],
   "source": [
    "text_bigrams = list(nltk.bigrams(a_tokens))"
   ]
  },
  {
   "cell_type": "code",
   "execution_count": 75,
   "metadata": {},
   "outputs": [],
   "source": [
    "text_bigrams;"
   ]
  },
  {
   "cell_type": "code",
   "execution_count": 76,
   "metadata": {},
   "outputs": [],
   "source": [
    "text_trigrams = list(nltk.trigrams(a_tokens))\n",
    "text_trigrams;"
   ]
  },
  {
   "cell_type": "code",
   "execution_count": 77,
   "metadata": {
    "scrolled": false
   },
   "outputs": [],
   "source": [
    "text_ngrams = list(nltk.ngrams(a_tokens, 5))\n",
    "text_ngrams;"
   ]
  },
  {
   "cell_type": "markdown",
   "metadata": {},
   "source": [
    "## Reviews with more than 5 thumbs-ups"
   ]
  },
  {
   "cell_type": "code",
   "execution_count": 78,
   "metadata": {},
   "outputs": [
    {
     "data": {
      "text/plain": [
       "5.813357919152482"
      ]
     },
     "execution_count": 78,
     "metadata": {},
     "output_type": "execute_result"
    }
   ],
   "source": [
    "#trying to make some reasonalbe measure for sorting \n",
    "df_above_average = df['thumb'].mean() * (df['thumb'].mean()* df['thumb'].std()*2)\n",
    "df_above_average"
   ]
  },
  {
   "cell_type": "code",
   "execution_count": 79,
   "metadata": {
    "scrolled": false
   },
   "outputs": [
    {
     "data": {
      "text/html": [
       "<div>\n",
       "<style scoped>\n",
       "    .dataframe tbody tr th:only-of-type {\n",
       "        vertical-align: middle;\n",
       "    }\n",
       "\n",
       "    .dataframe tbody tr th {\n",
       "        vertical-align: top;\n",
       "    }\n",
       "\n",
       "    .dataframe thead th {\n",
       "        text-align: right;\n",
       "    }\n",
       "</style>\n",
       "<table border=\"1\" class=\"dataframe\">\n",
       "  <thead>\n",
       "    <tr style=\"text-align: right;\">\n",
       "      <th></th>\n",
       "      <th>rbr</th>\n",
       "      <th>name</th>\n",
       "      <th>date</th>\n",
       "      <th>stars</th>\n",
       "      <th>review</th>\n",
       "      <th>lang</th>\n",
       "      <th>thumb</th>\n",
       "      <th>reply</th>\n",
       "      <th>polarity</th>\n",
       "      <th>subjectivity</th>\n",
       "      <th>year</th>\n",
       "      <th>month</th>\n",
       "      <th>year_month</th>\n",
       "    </tr>\n",
       "  </thead>\n",
       "  <tbody>\n",
       "    <tr>\n",
       "      <th>158</th>\n",
       "      <td>197</td>\n",
       "      <td>Miroslav Fiolica</td>\n",
       "      <td>2017-07-22</td>\n",
       "      <td>1</td>\n",
       "      <td>They give me free app on prize game and if i ...</td>\n",
       "      <td>en</td>\n",
       "      <td>14</td>\n",
       "      <td>NaN</td>\n",
       "      <td>-0.195312</td>\n",
       "      <td>0.650000</td>\n",
       "      <td>2017</td>\n",
       "      <td>7</td>\n",
       "      <td>2017-07</td>\n",
       "    </tr>\n",
       "    <tr>\n",
       "      <th>159</th>\n",
       "      <td>198</td>\n",
       "      <td>Joan Weston</td>\n",
       "      <td>2017-07-26</td>\n",
       "      <td>2</td>\n",
       "      <td>Ridiculous.  2 out of every 5 addresses could...</td>\n",
       "      <td>en</td>\n",
       "      <td>11</td>\n",
       "      <td>NaN</td>\n",
       "      <td>-0.052083</td>\n",
       "      <td>0.677083</td>\n",
       "      <td>2017</td>\n",
       "      <td>7</td>\n",
       "      <td>2017-07</td>\n",
       "    </tr>\n",
       "    <tr>\n",
       "      <th>157</th>\n",
       "      <td>196</td>\n",
       "      <td>A Google user</td>\n",
       "      <td>2017-08-22</td>\n",
       "      <td>3</td>\n",
       "      <td>I'm giving you a try (after purchasing everyt...</td>\n",
       "      <td>en</td>\n",
       "      <td>10</td>\n",
       "      <td>NaN</td>\n",
       "      <td>-0.076923</td>\n",
       "      <td>0.430769</td>\n",
       "      <td>2017</td>\n",
       "      <td>8</td>\n",
       "      <td>2017-08</td>\n",
       "    </tr>\n",
       "    <tr>\n",
       "      <th>191</th>\n",
       "      <td>244</td>\n",
       "      <td>Mehmood Mohammed</td>\n",
       "      <td>2016-10-11</td>\n",
       "      <td>1</td>\n",
       "      <td>Pathetic service They said you can transfer pu...</td>\n",
       "      <td>en</td>\n",
       "      <td>10</td>\n",
       "      <td>NaN</td>\n",
       "      <td>-0.372727</td>\n",
       "      <td>0.630909</td>\n",
       "      <td>2016</td>\n",
       "      <td>10</td>\n",
       "      <td>2016-10</td>\n",
       "    </tr>\n",
       "    <tr>\n",
       "      <th>2</th>\n",
       "      <td>4</td>\n",
       "      <td>Carl Savillo Jr</td>\n",
       "      <td>2020-05-08</td>\n",
       "      <td>1</td>\n",
       "      <td>To use it, you need another $45 app so your v...</td>\n",
       "      <td>en</td>\n",
       "      <td>9</td>\n",
       "      <td>Dear Carl,\\r\\n\\r\\nthank you for leaving a revi...</td>\n",
       "      <td>-0.100000</td>\n",
       "      <td>0.100000</td>\n",
       "      <td>2020</td>\n",
       "      <td>5</td>\n",
       "      <td>2020-05</td>\n",
       "    </tr>\n",
       "    <tr>\n",
       "      <th>5</th>\n",
       "      <td>8</td>\n",
       "      <td>Carl Savillo Jr</td>\n",
       "      <td>2020-05-08</td>\n",
       "      <td>1</td>\n",
       "      <td>To use it, you need another $45 app so your v...</td>\n",
       "      <td>en</td>\n",
       "      <td>9</td>\n",
       "      <td>Dear Carl,\\r\\n\\r\\nthank you for leaving a revi...</td>\n",
       "      <td>-0.100000</td>\n",
       "      <td>0.100000</td>\n",
       "      <td>2020</td>\n",
       "      <td>5</td>\n",
       "      <td>2020-05</td>\n",
       "    </tr>\n",
       "    <tr>\n",
       "      <th>12</th>\n",
       "      <td>15</td>\n",
       "      <td>Ivy Poison</td>\n",
       "      <td>2020-02-21</td>\n",
       "      <td>1</td>\n",
       "      <td>99% of the time fully useless, 1% of the time...</td>\n",
       "      <td>en</td>\n",
       "      <td>9</td>\n",
       "      <td>NaN</td>\n",
       "      <td>0.166667</td>\n",
       "      <td>0.400000</td>\n",
       "      <td>2020</td>\n",
       "      <td>2</td>\n",
       "      <td>2020-02</td>\n",
       "    </tr>\n",
       "    <tr>\n",
       "      <th>22</th>\n",
       "      <td>25</td>\n",
       "      <td>Richard Stangroom</td>\n",
       "      <td>2019-08-22</td>\n",
       "      <td>3</td>\n",
       "      <td>Navigation is ok, the voice instructions are ...</td>\n",
       "      <td>en</td>\n",
       "      <td>9</td>\n",
       "      <td>NaN</td>\n",
       "      <td>0.072857</td>\n",
       "      <td>0.662381</td>\n",
       "      <td>2019</td>\n",
       "      <td>8</td>\n",
       "      <td>2019-08</td>\n",
       "    </tr>\n",
       "    <tr>\n",
       "      <th>151</th>\n",
       "      <td>190</td>\n",
       "      <td>Vladimir Shapranov</td>\n",
       "      <td>2017-12-07</td>\n",
       "      <td>2</td>\n",
       "      <td>Does not start without access to contacts</td>\n",
       "      <td>en</td>\n",
       "      <td>9</td>\n",
       "      <td>NaN</td>\n",
       "      <td>0.000000</td>\n",
       "      <td>0.000000</td>\n",
       "      <td>2017</td>\n",
       "      <td>12</td>\n",
       "      <td>2017-12</td>\n",
       "    </tr>\n",
       "    <tr>\n",
       "      <th>19</th>\n",
       "      <td>22</td>\n",
       "      <td>Ron Schunk</td>\n",
       "      <td>2019-06-27</td>\n",
       "      <td>1</td>\n",
       "      <td>Have some problems...app comes up fine, EXCEP...</td>\n",
       "      <td>en</td>\n",
       "      <td>7</td>\n",
       "      <td>Dear Ron,\\r\\n\\r\\nthank you for leaving a revie...</td>\n",
       "      <td>0.416667</td>\n",
       "      <td>0.500000</td>\n",
       "      <td>2019</td>\n",
       "      <td>6</td>\n",
       "      <td>2019-06</td>\n",
       "    </tr>\n",
       "    <tr>\n",
       "      <th>167</th>\n",
       "      <td>214</td>\n",
       "      <td>A Google user</td>\n",
       "      <td>2017-04-02</td>\n",
       "      <td>2</td>\n",
       "      <td>I cant find my home adress  and it wont let m...</td>\n",
       "      <td>en</td>\n",
       "      <td>7</td>\n",
       "      <td>NaN</td>\n",
       "      <td>0.416667</td>\n",
       "      <td>0.866667</td>\n",
       "      <td>2017</td>\n",
       "      <td>4</td>\n",
       "      <td>2017-04</td>\n",
       "    </tr>\n",
       "    <tr>\n",
       "      <th>34</th>\n",
       "      <td>37</td>\n",
       "      <td>Murray Paulson</td>\n",
       "      <td>2019-06-23</td>\n",
       "      <td>4</td>\n",
       "      <td>It is great to have an offline map for gettin...</td>\n",
       "      <td>en</td>\n",
       "      <td>6</td>\n",
       "      <td>Dear Murray,\\r\\n\\r\\nthank you for the great re...</td>\n",
       "      <td>0.308333</td>\n",
       "      <td>0.358333</td>\n",
       "      <td>2019</td>\n",
       "      <td>6</td>\n",
       "      <td>2019-06</td>\n",
       "    </tr>\n",
       "    <tr>\n",
       "      <th>141</th>\n",
       "      <td>179</td>\n",
       "      <td>A Google user</td>\n",
       "      <td>2018-02-28</td>\n",
       "      <td>1</td>\n",
       "      <td>I think its good if Pro Guidance and Live Tra...</td>\n",
       "      <td>en</td>\n",
       "      <td>6</td>\n",
       "      <td>Hi, we're not in the position to fit both Pro ...</td>\n",
       "      <td>0.111061</td>\n",
       "      <td>0.443333</td>\n",
       "      <td>2018</td>\n",
       "      <td>2</td>\n",
       "      <td>2018-02</td>\n",
       "    </tr>\n",
       "    <tr>\n",
       "      <th>177</th>\n",
       "      <td>226</td>\n",
       "      <td>A Google user</td>\n",
       "      <td>2017-01-24</td>\n",
       "      <td>5</td>\n",
       "      <td>Great offline navigation app, even better tha...</td>\n",
       "      <td>en</td>\n",
       "      <td>6</td>\n",
       "      <td>NaN</td>\n",
       "      <td>0.351786</td>\n",
       "      <td>0.542634</td>\n",
       "      <td>2017</td>\n",
       "      <td>1</td>\n",
       "      <td>2017-01</td>\n",
       "    </tr>\n",
       "  </tbody>\n",
       "</table>\n",
       "</div>"
      ],
      "text/plain": [
       "     rbr                name       date  stars                                             review lang  thumb                                              reply  polarity  subjectivity  year  month year_month\n",
       "158  197    Miroslav Fiolica 2017-07-22      1   They give me free app on prize game and if i ...   en     14                                                NaN -0.195312      0.650000  2017      7    2017-07\n",
       "159  198         Joan Weston 2017-07-26      2   Ridiculous.  2 out of every 5 addresses could...   en     11                                                NaN -0.052083      0.677083  2017      7    2017-07\n",
       "157  196       A Google user 2017-08-22      3   I'm giving you a try (after purchasing everyt...   en     10                                                NaN -0.076923      0.430769  2017      8    2017-08\n",
       "191  244    Mehmood Mohammed 2016-10-11      1  Pathetic service They said you can transfer pu...   en     10                                                NaN -0.372727      0.630909  2016     10    2016-10\n",
       "2      4     Carl Savillo Jr 2020-05-08      1   To use it, you need another $45 app so your v...   en      9  Dear Carl,\\r\\n\\r\\nthank you for leaving a revi... -0.100000      0.100000  2020      5    2020-05\n",
       "5      8     Carl Savillo Jr 2020-05-08      1   To use it, you need another $45 app so your v...   en      9  Dear Carl,\\r\\n\\r\\nthank you for leaving a revi... -0.100000      0.100000  2020      5    2020-05\n",
       "12    15          Ivy Poison 2020-02-21      1   99% of the time fully useless, 1% of the time...   en      9                                                NaN  0.166667      0.400000  2020      2    2020-02\n",
       "22    25   Richard Stangroom 2019-08-22      3   Navigation is ok, the voice instructions are ...   en      9                                                NaN  0.072857      0.662381  2019      8    2019-08\n",
       "151  190  Vladimir Shapranov 2017-12-07      2          Does not start without access to contacts   en      9                                                NaN  0.000000      0.000000  2017     12    2017-12\n",
       "19    22          Ron Schunk 2019-06-27      1   Have some problems...app comes up fine, EXCEP...   en      7  Dear Ron,\\r\\n\\r\\nthank you for leaving a revie...  0.416667      0.500000  2019      6    2019-06\n",
       "167  214       A Google user 2017-04-02      2   I cant find my home adress  and it wont let m...   en      7                                                NaN  0.416667      0.866667  2017      4    2017-04\n",
       "34    37      Murray Paulson 2019-06-23      4   It is great to have an offline map for gettin...   en      6  Dear Murray,\\r\\n\\r\\nthank you for the great re...  0.308333      0.358333  2019      6    2019-06\n",
       "141  179       A Google user 2018-02-28      1   I think its good if Pro Guidance and Live Tra...   en      6  Hi, we're not in the position to fit both Pro ...  0.111061      0.443333  2018      2    2018-02\n",
       "177  226       A Google user 2017-01-24      5   Great offline navigation app, even better tha...   en      6                                                NaN  0.351786      0.542634  2017      1    2017-01"
      ]
     },
     "execution_count": 79,
     "metadata": {},
     "output_type": "execute_result"
    }
   ],
   "source": [
    "# put with more than 10 or 20 on larger apps.\n",
    "df_tmp = df[df_above_average <= df['thumb']].copy()\n",
    "df_tmp.sort_values(by=[\"thumb\"], ascending=False)\n"
   ]
  },
  {
   "cell_type": "markdown",
   "metadata": {},
   "source": [
    "## Reviews by thumbs and stars "
   ]
  },
  {
   "cell_type": "code",
   "execution_count": 80,
   "metadata": {},
   "outputs": [
    {
     "data": {
      "text/plain": [
       "<matplotlib.collections.PathCollection at 0x22ee7bb3208>"
      ]
     },
     "execution_count": 80,
     "metadata": {},
     "output_type": "execute_result"
    },
    {
     "data": {
      "image/png": "[encoded data removed]",
      "text/plain": [
       "<Figure size 432x288 with 1 Axes>"
      ]
     },
     "metadata": {
      "needs_background": "light"
     },
     "output_type": "display_data"
    }
   ],
   "source": [
    "plt.scatter(df['thumb'], df['stars'])"
   ]
  }
 ],
 "metadata": {
  "kernelspec": {
   "display_name": "Python 3",
   "language": "python",
   "name": "python3"
  },
  "language_info": {
   "codemirror_mode": {
    "name": "ipython",
    "version": 3
   },
   "file_extension": ".py",
   "mimetype": "text/x-python",
   "name": "python",
   "nbconvert_exporter": "python",
   "pygments_lexer": "ipython3",
   "version": "3.7.3"
  }
 },
 "nbformat": 4,
 "nbformat_minor": 4
}
